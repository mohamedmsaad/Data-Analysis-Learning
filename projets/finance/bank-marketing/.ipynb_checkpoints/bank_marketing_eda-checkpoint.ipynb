{
 "cells": [
  {
   "cell_type": "code",
   "execution_count": 25,
   "id": "d3dad9a8",
   "metadata": {},
   "outputs": [
    {
     "data": {
      "text/html": [
       "<div>\n",
       "<style scoped>\n",
       "    .dataframe tbody tr th:only-of-type {\n",
       "        vertical-align: middle;\n",
       "    }\n",
       "\n",
       "    .dataframe tbody tr th {\n",
       "        vertical-align: top;\n",
       "    }\n",
       "\n",
       "    .dataframe thead th {\n",
       "        text-align: right;\n",
       "    }\n",
       "</style>\n",
       "<table border=\"1\" class=\"dataframe\">\n",
       "  <thead>\n",
       "    <tr style=\"text-align: right;\">\n",
       "      <th></th>\n",
       "      <th>age</th>\n",
       "      <th>job</th>\n",
       "      <th>marital</th>\n",
       "      <th>education</th>\n",
       "      <th>default</th>\n",
       "      <th>housing</th>\n",
       "      <th>loan</th>\n",
       "      <th>contact</th>\n",
       "      <th>month</th>\n",
       "      <th>day_of_week</th>\n",
       "      <th>...</th>\n",
       "      <th>campaign</th>\n",
       "      <th>pdays</th>\n",
       "      <th>previous</th>\n",
       "      <th>poutcome</th>\n",
       "      <th>emp.var.rate</th>\n",
       "      <th>cons.price.idx</th>\n",
       "      <th>cons.conf.idx</th>\n",
       "      <th>euribor3m</th>\n",
       "      <th>nr.employed</th>\n",
       "      <th>y</th>\n",
       "    </tr>\n",
       "  </thead>\n",
       "  <tbody>\n",
       "    <tr>\n",
       "      <th>0</th>\n",
       "      <td>56</td>\n",
       "      <td>housemaid</td>\n",
       "      <td>married</td>\n",
       "      <td>basic.4y</td>\n",
       "      <td>no</td>\n",
       "      <td>no</td>\n",
       "      <td>no</td>\n",
       "      <td>telephone</td>\n",
       "      <td>may</td>\n",
       "      <td>mon</td>\n",
       "      <td>...</td>\n",
       "      <td>1</td>\n",
       "      <td>999</td>\n",
       "      <td>0</td>\n",
       "      <td>nonexistent</td>\n",
       "      <td>1.1</td>\n",
       "      <td>93.994</td>\n",
       "      <td>-36.4</td>\n",
       "      <td>4.857</td>\n",
       "      <td>5191.0</td>\n",
       "      <td>no</td>\n",
       "    </tr>\n",
       "    <tr>\n",
       "      <th>1</th>\n",
       "      <td>57</td>\n",
       "      <td>services</td>\n",
       "      <td>married</td>\n",
       "      <td>high.school</td>\n",
       "      <td>unknown</td>\n",
       "      <td>no</td>\n",
       "      <td>no</td>\n",
       "      <td>telephone</td>\n",
       "      <td>may</td>\n",
       "      <td>mon</td>\n",
       "      <td>...</td>\n",
       "      <td>1</td>\n",
       "      <td>999</td>\n",
       "      <td>0</td>\n",
       "      <td>nonexistent</td>\n",
       "      <td>1.1</td>\n",
       "      <td>93.994</td>\n",
       "      <td>-36.4</td>\n",
       "      <td>4.857</td>\n",
       "      <td>5191.0</td>\n",
       "      <td>no</td>\n",
       "    </tr>\n",
       "    <tr>\n",
       "      <th>2</th>\n",
       "      <td>37</td>\n",
       "      <td>services</td>\n",
       "      <td>married</td>\n",
       "      <td>high.school</td>\n",
       "      <td>no</td>\n",
       "      <td>yes</td>\n",
       "      <td>no</td>\n",
       "      <td>telephone</td>\n",
       "      <td>may</td>\n",
       "      <td>mon</td>\n",
       "      <td>...</td>\n",
       "      <td>1</td>\n",
       "      <td>999</td>\n",
       "      <td>0</td>\n",
       "      <td>nonexistent</td>\n",
       "      <td>1.1</td>\n",
       "      <td>93.994</td>\n",
       "      <td>-36.4</td>\n",
       "      <td>4.857</td>\n",
       "      <td>5191.0</td>\n",
       "      <td>no</td>\n",
       "    </tr>\n",
       "    <tr>\n",
       "      <th>3</th>\n",
       "      <td>40</td>\n",
       "      <td>admin.</td>\n",
       "      <td>married</td>\n",
       "      <td>basic.6y</td>\n",
       "      <td>no</td>\n",
       "      <td>no</td>\n",
       "      <td>no</td>\n",
       "      <td>telephone</td>\n",
       "      <td>may</td>\n",
       "      <td>mon</td>\n",
       "      <td>...</td>\n",
       "      <td>1</td>\n",
       "      <td>999</td>\n",
       "      <td>0</td>\n",
       "      <td>nonexistent</td>\n",
       "      <td>1.1</td>\n",
       "      <td>93.994</td>\n",
       "      <td>-36.4</td>\n",
       "      <td>4.857</td>\n",
       "      <td>5191.0</td>\n",
       "      <td>no</td>\n",
       "    </tr>\n",
       "    <tr>\n",
       "      <th>4</th>\n",
       "      <td>56</td>\n",
       "      <td>services</td>\n",
       "      <td>married</td>\n",
       "      <td>high.school</td>\n",
       "      <td>no</td>\n",
       "      <td>no</td>\n",
       "      <td>yes</td>\n",
       "      <td>telephone</td>\n",
       "      <td>may</td>\n",
       "      <td>mon</td>\n",
       "      <td>...</td>\n",
       "      <td>1</td>\n",
       "      <td>999</td>\n",
       "      <td>0</td>\n",
       "      <td>nonexistent</td>\n",
       "      <td>1.1</td>\n",
       "      <td>93.994</td>\n",
       "      <td>-36.4</td>\n",
       "      <td>4.857</td>\n",
       "      <td>5191.0</td>\n",
       "      <td>no</td>\n",
       "    </tr>\n",
       "  </tbody>\n",
       "</table>\n",
       "<p>5 rows × 21 columns</p>\n",
       "</div>"
      ],
      "text/plain": [
       "   age        job  marital    education  default housing loan    contact  \\\n",
       "0   56  housemaid  married     basic.4y       no      no   no  telephone   \n",
       "1   57   services  married  high.school  unknown      no   no  telephone   \n",
       "2   37   services  married  high.school       no     yes   no  telephone   \n",
       "3   40     admin.  married     basic.6y       no      no   no  telephone   \n",
       "4   56   services  married  high.school       no      no  yes  telephone   \n",
       "\n",
       "  month day_of_week  ...  campaign  pdays  previous     poutcome emp.var.rate  \\\n",
       "0   may         mon  ...         1    999         0  nonexistent          1.1   \n",
       "1   may         mon  ...         1    999         0  nonexistent          1.1   \n",
       "2   may         mon  ...         1    999         0  nonexistent          1.1   \n",
       "3   may         mon  ...         1    999         0  nonexistent          1.1   \n",
       "4   may         mon  ...         1    999         0  nonexistent          1.1   \n",
       "\n",
       "   cons.price.idx  cons.conf.idx  euribor3m  nr.employed   y  \n",
       "0          93.994          -36.4      4.857       5191.0  no  \n",
       "1          93.994          -36.4      4.857       5191.0  no  \n",
       "2          93.994          -36.4      4.857       5191.0  no  \n",
       "3          93.994          -36.4      4.857       5191.0  no  \n",
       "4          93.994          -36.4      4.857       5191.0  no  \n",
       "\n",
       "[5 rows x 21 columns]"
      ]
     },
     "execution_count": 25,
     "metadata": {},
     "output_type": "execute_result"
    }
   ],
   "source": [
    "import pandas as pd\n",
    "import matplotlib.pyplot as plt\n",
    "import seaborn as sns\n",
    "\n",
    "df = pd.read_csv('bank-additional-full.csv', sep=';')\n",
    "df.head()"
   ]
  },
  {
   "cell_type": "code",
   "execution_count": 2,
   "id": "657bcd5c",
   "metadata": {},
   "outputs": [
    {
     "name": "stdout",
     "output_type": "stream",
     "text": [
      "<class 'pandas.core.frame.DataFrame'>\n",
      "RangeIndex: 41188 entries, 0 to 41187\n",
      "Data columns (total 21 columns):\n",
      " #   Column          Non-Null Count  Dtype  \n",
      "---  ------          --------------  -----  \n",
      " 0   age             41188 non-null  int64  \n",
      " 1   job             41188 non-null  object \n",
      " 2   marital         41188 non-null  object \n",
      " 3   education       41188 non-null  object \n",
      " 4   default         41188 non-null  object \n",
      " 5   housing         41188 non-null  object \n",
      " 6   loan            41188 non-null  object \n",
      " 7   contact         41188 non-null  object \n",
      " 8   month           41188 non-null  object \n",
      " 9   day_of_week     41188 non-null  object \n",
      " 10  duration        41188 non-null  int64  \n",
      " 11  campaign        41188 non-null  int64  \n",
      " 12  pdays           41188 non-null  int64  \n",
      " 13  previous        41188 non-null  int64  \n",
      " 14  poutcome        41188 non-null  object \n",
      " 15  emp.var.rate    41188 non-null  float64\n",
      " 16  cons.price.idx  41188 non-null  float64\n",
      " 17  cons.conf.idx   41188 non-null  float64\n",
      " 18  euribor3m       41188 non-null  float64\n",
      " 19  nr.employed     41188 non-null  float64\n",
      " 20  y               41188 non-null  object \n",
      "dtypes: float64(5), int64(5), object(11)\n",
      "memory usage: 6.6+ MB\n"
     ]
    }
   ],
   "source": [
    "df.info()"
   ]
  },
  {
   "cell_type": "markdown",
   "id": "3b84df4e",
   "metadata": {},
   "source": [
    "**FR**\n",
    "\n",
    ">Trouver les colonnes et quel type de variables contiennent-t-elles.\n",
    "\n",
    "**EN**\n",
    "\n",
    ">Find column names and the variable type. "
   ]
  },
  {
   "cell_type": "code",
   "execution_count": 3,
   "id": "5df7f19e",
   "metadata": {},
   "outputs": [
    {
     "data": {
      "text/plain": [
       "age               0\n",
       "job               0\n",
       "marital           0\n",
       "education         0\n",
       "default           0\n",
       "housing           0\n",
       "loan              0\n",
       "contact           0\n",
       "month             0\n",
       "day_of_week       0\n",
       "duration          0\n",
       "campaign          0\n",
       "pdays             0\n",
       "previous          0\n",
       "poutcome          0\n",
       "emp.var.rate      0\n",
       "cons.price.idx    0\n",
       "cons.conf.idx     0\n",
       "euribor3m         0\n",
       "nr.employed       0\n",
       "y                 0\n",
       "dtype: int64"
      ]
     },
     "execution_count": 3,
     "metadata": {},
     "output_type": "execute_result"
    }
   ],
   "source": [
    "df.isnull().sum()"
   ]
  },
  {
   "cell_type": "markdown",
   "id": "6a616a9f",
   "metadata": {},
   "source": [
    "**FR**  \n",
    "\n",
    ">Q : Est-ce qu'il y a des valeurs manquantes ?\n",
    "\n",
    ">R : Non, aucune valeur n'est manquante. Nous ne sommes pas obligés de les remplacer par la médiane.\n",
    "\n",
    "---\n",
    "\n",
    "**EN**\n",
    "\n",
    ">Q : Are there any missing values ? \n",
    "\n",
    ">A : No, there are no missing values. We can procede as we must not replace missing values by the median."
   ]
  },
  {
   "cell_type": "code",
   "execution_count": 4,
   "id": "a418e2ce",
   "metadata": {},
   "outputs": [
    {
     "data": {
      "text/plain": [
       "no     0.887346\n",
       "yes    0.112654\n",
       "Name: y, dtype: float64"
      ]
     },
     "execution_count": 4,
     "metadata": {},
     "output_type": "execute_result"
    }
   ],
   "source": [
    "df['y'].value_counts(normalize=True)"
   ]
  },
  {
   "cell_type": "markdown",
   "id": "99421dc3",
   "metadata": {},
   "source": [
    "Taux de comptes à terme. 88% des cas ce compte n'est pas choisi par le clients de la banque.\n",
    "\n",
    "This is the rate of term deposit of the bank. 88% of clients chose to not have a term deposit. "
   ]
  },
  {
   "cell_type": "code",
   "execution_count": 49,
   "id": "26bb64e9",
   "metadata": {},
   "outputs": [
    {
     "data": {
      "text/plain": [
       "count    41188.00000\n",
       "mean        40.02406\n",
       "std         10.42125\n",
       "min         17.00000\n",
       "25%         32.00000\n",
       "50%         38.00000\n",
       "75%         47.00000\n",
       "max         98.00000\n",
       "Name: age, dtype: float64"
      ]
     },
     "execution_count": 49,
     "metadata": {},
     "output_type": "execute_result"
    }
   ],
   "source": [
    "df['age'].describe()"
   ]
  },
  {
   "cell_type": "code",
   "execution_count": 67,
   "id": "18386550",
   "metadata": {},
   "outputs": [
    {
     "name": "stdout",
     "output_type": "stream",
     "text": [
      "Mean ages by group:\n",
      "age_group\n",
      "17-25    23.471188\n",
      "26-35    31.219977\n",
      "36-45    40.038539\n",
      "46-55    50.095284\n",
      "56-65    58.123861\n",
      "66-75    70.173797\n",
      "76-85    79.722772\n",
      "86-98    88.930233\n",
      "Name: age, dtype: float64\n",
      "\n",
      "Crosstab (percentages):\n",
      "y                 no        yes\n",
      "age_group                      \n",
      "17-25      79.051621  20.948379\n",
      "26-35      88.280461  11.719539\n",
      "36-45      91.490190   8.509810\n",
      "46-55      91.308037   8.691963\n",
      "56-65      84.778940  15.221060\n",
      "66-75      56.951872  43.048128\n",
      "76-85      47.029703  52.970297\n",
      "86-98      48.837209  51.162791\n"
     ]
    }
   ],
   "source": [
    "df['age_group'] = pd.cut(df['age'], \n",
    "                        bins=[16, 25, 35, 45, 55, 65, 75, 85, 98], \n",
    "                        labels=['17-25', '26-35', '36-45', '46-55', '56-65', '66-75', '76-85', '86-98'],\n",
    "                        ordered=True)\n",
    "\n",
    "crosstab_result = pd.crosstab(df[\"age_group\"], df[\"y\"], normalize=\"index\") * 100\n",
    "\n",
    "age_means = df.groupby('age_group')['age'].mean()\n",
    "print(\"Mean ages by group:\")\n",
    "print(age_means)\n",
    "\n",
    "print(\"\\nCrosstab (percentages):\")\n",
    "print(crosstab_result)"
   ]
  },
  {
   "cell_type": "code",
   "execution_count": 71,
   "id": "31b849d0",
   "metadata": {},
   "outputs": [
    {
     "data": {
      "image/png": "[encoded data removed]",
      "text/plain": [
       "<Figure size 1200x600 with 1 Axes>"
      ]
     },
     "metadata": {},
     "output_type": "display_data"
    }
   ],
   "source": [
    "df['age_group'] = pd.cut(df['age'], \n",
    "                       bins=[16, 25, 35, 45, 55, 65, 75, 85, 98], \n",
    "                       labels=['17-25', '26-35', '36-45', '46-55', '56-65', '66-75', '76-85', '86-98'],\n",
    "                       ordered=True)\n",
    "\n",
    "plt.figure(figsize=(12, 6))\n",
    "sns.histplot(data=df, x='age_group', hue='y', multiple='stack', \n",
    "            palette=['#e74c3c', '#2ecc71'])\n",
    "\n",
    "plt.title('Distribution by Age Groups and Subscription Status', fontsize=16, pad=20)\n",
    "plt.xlabel('Age Groups', fontsize=12)\n",
    "plt.ylabel('Count', fontsize=12)\n",
    "plt.xticks(rotation=45)\n",
    "plt.legend(title='Subscribed', labels=['Yes', 'No'])\n",
    "plt.tight_layout()\n",
    "plt.show()"
   ]
  },
  {
   "cell_type": "code",
   "execution_count": null,
   "id": "545a1102",
   "metadata": {},
   "outputs": [],
   "source": []
  },
  {
   "cell_type": "code",
   "execution_count": null,
   "id": "36ac1160",
   "metadata": {},
   "outputs": [],
   "source": []
  },
  {
   "cell_type": "code",
   "execution_count": 59,
   "id": "241878ac",
   "metadata": {},
   "outputs": [
    {
     "data": {
      "image/png": "[encoded data removed]",
      "text/plain": [
       "<Figure size 1000x600 with 1 Axes>"
      ]
     },
     "metadata": {},
     "output_type": "display_data"
    }
   ],
   "source": [
    "plt.figure(figsize=(10, 6))\n",
    "sns.kdeplot(data=df, x='age', hue='y', fill=True, common_norm=False, palette='Set2', alpha=0.6)\n",
    "plt.title(\"Courbe de densité des âges par statut de souscription\")\n",
    "plt.xlabel(\"Age\")\n",
    "plt.ylabel(\"Densité\")\n",
    "plt.grid(True)\n",
    "plt.show()"
   ]
  },
  {
   "cell_type": "code",
   "execution_count": 50,
   "id": "24a6b8f9",
   "metadata": {},
   "outputs": [
    {
     "data": {
      "text/html": [
       "<div>\n",
       "<style scoped>\n",
       "    .dataframe tbody tr th:only-of-type {\n",
       "        vertical-align: middle;\n",
       "    }\n",
       "\n",
       "    .dataframe tbody tr th {\n",
       "        vertical-align: top;\n",
       "    }\n",
       "\n",
       "    .dataframe thead th {\n",
       "        text-align: right;\n",
       "    }\n",
       "</style>\n",
       "<table border=\"1\" class=\"dataframe\">\n",
       "  <thead>\n",
       "    <tr style=\"text-align: right;\">\n",
       "      <th>y</th>\n",
       "      <th>no</th>\n",
       "      <th>yes</th>\n",
       "    </tr>\n",
       "    <tr>\n",
       "      <th>age</th>\n",
       "      <th></th>\n",
       "      <th></th>\n",
       "    </tr>\n",
       "  </thead>\n",
       "  <tbody>\n",
       "    <tr>\n",
       "      <th>17</th>\n",
       "      <td>60.000000</td>\n",
       "      <td>40.000000</td>\n",
       "    </tr>\n",
       "    <tr>\n",
       "      <th>18</th>\n",
       "      <td>57.142857</td>\n",
       "      <td>42.857143</td>\n",
       "    </tr>\n",
       "    <tr>\n",
       "      <th>19</th>\n",
       "      <td>52.380952</td>\n",
       "      <td>47.619048</td>\n",
       "    </tr>\n",
       "    <tr>\n",
       "      <th>20</th>\n",
       "      <td>64.615385</td>\n",
       "      <td>35.384615</td>\n",
       "    </tr>\n",
       "    <tr>\n",
       "      <th>21</th>\n",
       "      <td>71.568627</td>\n",
       "      <td>28.431373</td>\n",
       "    </tr>\n",
       "    <tr>\n",
       "      <th>...</th>\n",
       "      <td>...</td>\n",
       "      <td>...</td>\n",
       "    </tr>\n",
       "    <tr>\n",
       "      <th>91</th>\n",
       "      <td>100.000000</td>\n",
       "      <td>0.000000</td>\n",
       "    </tr>\n",
       "    <tr>\n",
       "      <th>92</th>\n",
       "      <td>25.000000</td>\n",
       "      <td>75.000000</td>\n",
       "    </tr>\n",
       "    <tr>\n",
       "      <th>94</th>\n",
       "      <td>100.000000</td>\n",
       "      <td>0.000000</td>\n",
       "    </tr>\n",
       "    <tr>\n",
       "      <th>95</th>\n",
       "      <td>100.000000</td>\n",
       "      <td>0.000000</td>\n",
       "    </tr>\n",
       "    <tr>\n",
       "      <th>98</th>\n",
       "      <td>0.000000</td>\n",
       "      <td>100.000000</td>\n",
       "    </tr>\n",
       "  </tbody>\n",
       "</table>\n",
       "<p>78 rows × 2 columns</p>\n",
       "</div>"
      ],
      "text/plain": [
       "y            no         yes\n",
       "age                        \n",
       "17    60.000000   40.000000\n",
       "18    57.142857   42.857143\n",
       "19    52.380952   47.619048\n",
       "20    64.615385   35.384615\n",
       "21    71.568627   28.431373\n",
       "..          ...         ...\n",
       "91   100.000000    0.000000\n",
       "92    25.000000   75.000000\n",
       "94   100.000000    0.000000\n",
       "95   100.000000    0.000000\n",
       "98     0.000000  100.000000\n",
       "\n",
       "[78 rows x 2 columns]"
      ]
     },
     "execution_count": 50,
     "metadata": {},
     "output_type": "execute_result"
    }
   ],
   "source": [
    "pd.crosstab(df[\"age\"], df[\"y\"], normalize=\"index\") * 100"
   ]
  },
  {
   "cell_type": "code",
   "execution_count": 6,
   "id": "4089f1c2",
   "metadata": {},
   "outputs": [
    {
     "data": {
      "text/html": [
       "<div>\n",
       "<style scoped>\n",
       "    .dataframe tbody tr th:only-of-type {\n",
       "        vertical-align: middle;\n",
       "    }\n",
       "\n",
       "    .dataframe tbody tr th {\n",
       "        vertical-align: top;\n",
       "    }\n",
       "\n",
       "    .dataframe thead th {\n",
       "        text-align: right;\n",
       "    }\n",
       "</style>\n",
       "<table border=\"1\" class=\"dataframe\">\n",
       "  <thead>\n",
       "    <tr style=\"text-align: right;\">\n",
       "      <th>y</th>\n",
       "      <th>no</th>\n",
       "      <th>yes</th>\n",
       "    </tr>\n",
       "    <tr>\n",
       "      <th>marital</th>\n",
       "      <th></th>\n",
       "      <th></th>\n",
       "    </tr>\n",
       "  </thead>\n",
       "  <tbody>\n",
       "    <tr>\n",
       "      <th>divorced</th>\n",
       "      <td>89.679098</td>\n",
       "      <td>10.320902</td>\n",
       "    </tr>\n",
       "    <tr>\n",
       "      <th>married</th>\n",
       "      <td>89.842747</td>\n",
       "      <td>10.157253</td>\n",
       "    </tr>\n",
       "    <tr>\n",
       "      <th>single</th>\n",
       "      <td>85.995851</td>\n",
       "      <td>14.004149</td>\n",
       "    </tr>\n",
       "    <tr>\n",
       "      <th>unknown</th>\n",
       "      <td>85.000000</td>\n",
       "      <td>15.000000</td>\n",
       "    </tr>\n",
       "  </tbody>\n",
       "</table>\n",
       "</div>"
      ],
      "text/plain": [
       "y                no        yes\n",
       "marital                       \n",
       "divorced  89.679098  10.320902\n",
       "married   89.842747  10.157253\n",
       "single    85.995851  14.004149\n",
       "unknown   85.000000  15.000000"
      ]
     },
     "execution_count": 6,
     "metadata": {},
     "output_type": "execute_result"
    }
   ],
   "source": [
    "pd.crosstab(df['marital'], df['y'], normalize='index')*100"
   ]
  },
  {
   "cell_type": "markdown",
   "id": "83777454",
   "metadata": {},
   "source": [
    "**FR**\n",
    "\n",
    ">On remarque que les personnes célibataires sont plus susceptibles de souscrire à un contrat à terme (14%).\n",
    ">\n",
    ">Les personnes mariées et divorcées ont tendance à avoir le même taux de suscription qui est ~10%.\n",
    "\n",
    "---\n",
    "\n",
    "**EN**\n",
    "\n",
    ">Single clients have the highest subscription rate (14%).\n",
    ">\n",
    ">Married and Divorced have very similar and lower rates (\\~10%).\n"
   ]
  },
  {
   "cell_type": "code",
   "execution_count": 47,
   "id": "c86a6719",
   "metadata": {},
   "outputs": [
    {
     "data": {
      "text/plain": [
       "admin.           10422\n",
       "blue-collar       9254\n",
       "technician        6743\n",
       "services          3969\n",
       "management        2924\n",
       "retired           1720\n",
       "entrepreneur      1456\n",
       "self-employed     1421\n",
       "housemaid         1060\n",
       "unemployed        1014\n",
       "student            875\n",
       "unknown            330\n",
       "Name: job, dtype: int64"
      ]
     },
     "execution_count": 47,
     "metadata": {},
     "output_type": "execute_result"
    }
   ],
   "source": [
    "df['job'].value_counts()"
   ]
  },
  {
   "cell_type": "code",
   "execution_count": 48,
   "id": "df4aef3a",
   "metadata": {},
   "outputs": [
    {
     "data": {
      "text/html": [
       "<div>\n",
       "<style scoped>\n",
       "    .dataframe tbody tr th:only-of-type {\n",
       "        vertical-align: middle;\n",
       "    }\n",
       "\n",
       "    .dataframe tbody tr th {\n",
       "        vertical-align: top;\n",
       "    }\n",
       "\n",
       "    .dataframe thead th {\n",
       "        text-align: right;\n",
       "    }\n",
       "</style>\n",
       "<table border=\"1\" class=\"dataframe\">\n",
       "  <thead>\n",
       "    <tr style=\"text-align: right;\">\n",
       "      <th>y</th>\n",
       "      <th>no</th>\n",
       "      <th>yes</th>\n",
       "    </tr>\n",
       "    <tr>\n",
       "      <th>job</th>\n",
       "      <th></th>\n",
       "      <th></th>\n",
       "    </tr>\n",
       "  </thead>\n",
       "  <tbody>\n",
       "    <tr>\n",
       "      <th>admin.</th>\n",
       "      <td>87.027442</td>\n",
       "      <td>12.972558</td>\n",
       "    </tr>\n",
       "    <tr>\n",
       "      <th>blue-collar</th>\n",
       "      <td>93.105684</td>\n",
       "      <td>6.894316</td>\n",
       "    </tr>\n",
       "    <tr>\n",
       "      <th>entrepreneur</th>\n",
       "      <td>91.483516</td>\n",
       "      <td>8.516484</td>\n",
       "    </tr>\n",
       "    <tr>\n",
       "      <th>housemaid</th>\n",
       "      <td>90.000000</td>\n",
       "      <td>10.000000</td>\n",
       "    </tr>\n",
       "    <tr>\n",
       "      <th>management</th>\n",
       "      <td>88.782490</td>\n",
       "      <td>11.217510</td>\n",
       "    </tr>\n",
       "    <tr>\n",
       "      <th>retired</th>\n",
       "      <td>74.767442</td>\n",
       "      <td>25.232558</td>\n",
       "    </tr>\n",
       "    <tr>\n",
       "      <th>self-employed</th>\n",
       "      <td>89.514426</td>\n",
       "      <td>10.485574</td>\n",
       "    </tr>\n",
       "    <tr>\n",
       "      <th>services</th>\n",
       "      <td>91.861930</td>\n",
       "      <td>8.138070</td>\n",
       "    </tr>\n",
       "    <tr>\n",
       "      <th>student</th>\n",
       "      <td>68.571429</td>\n",
       "      <td>31.428571</td>\n",
       "    </tr>\n",
       "    <tr>\n",
       "      <th>technician</th>\n",
       "      <td>89.173958</td>\n",
       "      <td>10.826042</td>\n",
       "    </tr>\n",
       "    <tr>\n",
       "      <th>unemployed</th>\n",
       "      <td>85.798817</td>\n",
       "      <td>14.201183</td>\n",
       "    </tr>\n",
       "    <tr>\n",
       "      <th>unknown</th>\n",
       "      <td>88.787879</td>\n",
       "      <td>11.212121</td>\n",
       "    </tr>\n",
       "  </tbody>\n",
       "</table>\n",
       "</div>"
      ],
      "text/plain": [
       "y                     no        yes\n",
       "job                                \n",
       "admin.         87.027442  12.972558\n",
       "blue-collar    93.105684   6.894316\n",
       "entrepreneur   91.483516   8.516484\n",
       "housemaid      90.000000  10.000000\n",
       "management     88.782490  11.217510\n",
       "retired        74.767442  25.232558\n",
       "self-employed  89.514426  10.485574\n",
       "services       91.861930   8.138070\n",
       "student        68.571429  31.428571\n",
       "technician     89.173958  10.826042\n",
       "unemployed     85.798817  14.201183\n",
       "unknown        88.787879  11.212121"
      ]
     },
     "execution_count": 48,
     "metadata": {},
     "output_type": "execute_result"
    }
   ],
   "source": [
    "pd.crosstab(df[\"job\"], df[\"y\"], normalize=\"index\") * 100"
   ]
  },
  {
   "cell_type": "markdown",
   "id": "2bb04d42",
   "metadata": {},
   "source": [
    "**FR** \n",
    "\n",
    ">Nous avons analysé la répartition des métiers des clients de la banque. Les métiers administratifs, techniques et ouvriers (« blue-collar ») sont les plus représentés. Il serait pertinent de comparer cette répartition avec celle de la population générale pour détecter d’éventuelles corrélations avec le taux de souscription.\n",
    "\n",
    "---\n",
    "\n",
    "**EN**\n",
    "\n",
    ">We analyzed the distribution of clients’ occupations. Administrative, technical, and blue-collar jobs are the most common. It would be relevant to compare this distribution with that of the general population to detect potential correlations with subscription rates."
   ]
  },
  {
   "cell_type": "code",
   "execution_count": 8,
   "id": "e59e41ea",
   "metadata": {},
   "outputs": [
    {
     "data": {
      "text/html": [
       "<div>\n",
       "<style scoped>\n",
       "    .dataframe tbody tr th:only-of-type {\n",
       "        vertical-align: middle;\n",
       "    }\n",
       "\n",
       "    .dataframe tbody tr th {\n",
       "        vertical-align: top;\n",
       "    }\n",
       "\n",
       "    .dataframe thead th {\n",
       "        text-align: right;\n",
       "    }\n",
       "</style>\n",
       "<table border=\"1\" class=\"dataframe\">\n",
       "  <thead>\n",
       "    <tr style=\"text-align: right;\">\n",
       "      <th>y</th>\n",
       "      <th>no</th>\n",
       "      <th>yes</th>\n",
       "    </tr>\n",
       "    <tr>\n",
       "      <th>education</th>\n",
       "      <th></th>\n",
       "      <th></th>\n",
       "    </tr>\n",
       "  </thead>\n",
       "  <tbody>\n",
       "    <tr>\n",
       "      <th>basic.4y</th>\n",
       "      <td>89.750958</td>\n",
       "      <td>10.249042</td>\n",
       "    </tr>\n",
       "    <tr>\n",
       "      <th>basic.6y</th>\n",
       "      <td>91.797557</td>\n",
       "      <td>8.202443</td>\n",
       "    </tr>\n",
       "    <tr>\n",
       "      <th>basic.9y</th>\n",
       "      <td>92.175352</td>\n",
       "      <td>7.824648</td>\n",
       "    </tr>\n",
       "    <tr>\n",
       "      <th>high.school</th>\n",
       "      <td>89.164477</td>\n",
       "      <td>10.835523</td>\n",
       "    </tr>\n",
       "    <tr>\n",
       "      <th>illiterate</th>\n",
       "      <td>77.777778</td>\n",
       "      <td>22.222222</td>\n",
       "    </tr>\n",
       "    <tr>\n",
       "      <th>professional.course</th>\n",
       "      <td>88.651535</td>\n",
       "      <td>11.348465</td>\n",
       "    </tr>\n",
       "    <tr>\n",
       "      <th>university.degree</th>\n",
       "      <td>86.275477</td>\n",
       "      <td>13.724523</td>\n",
       "    </tr>\n",
       "    <tr>\n",
       "      <th>unknown</th>\n",
       "      <td>85.499711</td>\n",
       "      <td>14.500289</td>\n",
       "    </tr>\n",
       "  </tbody>\n",
       "</table>\n",
       "</div>"
      ],
      "text/plain": [
       "y                           no        yes\n",
       "education                                \n",
       "basic.4y             89.750958  10.249042\n",
       "basic.6y             91.797557   8.202443\n",
       "basic.9y             92.175352   7.824648\n",
       "high.school          89.164477  10.835523\n",
       "illiterate           77.777778  22.222222\n",
       "professional.course  88.651535  11.348465\n",
       "university.degree    86.275477  13.724523\n",
       "unknown              85.499711  14.500289"
      ]
     },
     "execution_count": 8,
     "metadata": {},
     "output_type": "execute_result"
    }
   ],
   "source": [
    "pd.crosstab(df[\"education\"], df[\"y\"], normalize=\"index\") * 100"
   ]
  },
  {
   "cell_type": "markdown",
   "id": "7f553849",
   "metadata": {},
   "source": [
    "**FR**\n",
    "\n",
    ">Nous observons que le niveau d'éducation semble influencer le taux de souscription. Les personnes sans instruction (illiterate) affichent le taux de souscription le plus élevé (22 %), bien que ce groupe soit probablement peu nombreux. Les titulaires d'un diplôme universitaire présentent également un taux de souscription supérieur à la moyenne (13,7 %), tandis que les niveaux d'éducation de base affichent des taux plus faibles (autour de 8–10 %).\n",
    "\n",
    "---\n",
    "**EN**\n",
    "\n",
    ">We observe that education level seems to influence the subscription rate. Individuals without any education (illiterate) show the highest subscription rate (22%), although this group is probably very small. Clients holding a university degree also have an above-average subscription rate (13.7%), while basic education levels show lower rates (around 8–10%)."
   ]
  },
  {
   "cell_type": "code",
   "execution_count": 9,
   "id": "a4077994",
   "metadata": {},
   "outputs": [
    {
     "name": "stdout",
     "output_type": "stream",
     "text": [
      "y                       no   yes\n",
      "education                       \n",
      "basic.4y              3748   428\n",
      "basic.6y              2104   188\n",
      "basic.9y              5572   473\n",
      "high.school           8484  1031\n",
      "illiterate              14     4\n",
      "professional.course   4648   595\n",
      "university.degree    10498  1670\n",
      "unknown               1480   251\n",
      "y                           no        yes\n",
      "education                                \n",
      "basic.4y             89.750958  10.249042\n",
      "basic.6y             91.797557   8.202443\n",
      "basic.9y             92.175352   7.824648\n",
      "high.school          89.164477  10.835523\n",
      "illiterate           77.777778  22.222222\n",
      "professional.course  88.651535  11.348465\n",
      "university.degree    86.275477  13.724523\n",
      "unknown              85.499711  14.500289\n"
     ]
    }
   ],
   "source": [
    "education_counts = df.groupby(['education', 'y']).size().unstack(fill_value=0)\n",
    "\n",
    "print(education_counts)\n",
    "\n",
    "education_percentages = education_counts.div(education_counts.sum(axis=1), axis=0) * 100\n",
    "\n",
    "print(education_percentages)\n"
   ]
  },
  {
   "cell_type": "markdown",
   "id": "2c1e3c0d",
   "metadata": {},
   "source": [
    "**Conifrmation de la situation en indiquant les nombres de personnes concernées**"
   ]
  },
  {
   "cell_type": "code",
   "execution_count": 10,
   "id": "ce110da5",
   "metadata": {},
   "outputs": [
    {
     "data": {
      "text/plain": [
       "cellular     26144\n",
       "telephone    15044\n",
       "Name: contact, dtype: int64"
      ]
     },
     "execution_count": 10,
     "metadata": {},
     "output_type": "execute_result"
    }
   ],
   "source": [
    "df['contact'].value_counts()"
   ]
  },
  {
   "cell_type": "code",
   "execution_count": 11,
   "id": "8f89de0b",
   "metadata": {},
   "outputs": [
    {
     "data": {
      "text/html": [
       "<div>\n",
       "<style scoped>\n",
       "    .dataframe tbody tr th:only-of-type {\n",
       "        vertical-align: middle;\n",
       "    }\n",
       "\n",
       "    .dataframe tbody tr th {\n",
       "        vertical-align: top;\n",
       "    }\n",
       "\n",
       "    .dataframe thead th {\n",
       "        text-align: right;\n",
       "    }\n",
       "</style>\n",
       "<table border=\"1\" class=\"dataframe\">\n",
       "  <thead>\n",
       "    <tr style=\"text-align: right;\">\n",
       "      <th>y</th>\n",
       "      <th>no</th>\n",
       "      <th>yes</th>\n",
       "    </tr>\n",
       "    <tr>\n",
       "      <th>contact</th>\n",
       "      <th></th>\n",
       "      <th></th>\n",
       "    </tr>\n",
       "  </thead>\n",
       "  <tbody>\n",
       "    <tr>\n",
       "      <th>cellular</th>\n",
       "      <td>85.262393</td>\n",
       "      <td>14.737607</td>\n",
       "    </tr>\n",
       "    <tr>\n",
       "      <th>telephone</th>\n",
       "      <td>94.768679</td>\n",
       "      <td>5.231321</td>\n",
       "    </tr>\n",
       "  </tbody>\n",
       "</table>\n",
       "</div>"
      ],
      "text/plain": [
       "y                 no        yes\n",
       "contact                        \n",
       "cellular   85.262393  14.737607\n",
       "telephone  94.768679   5.231321"
      ]
     },
     "execution_count": 11,
     "metadata": {},
     "output_type": "execute_result"
    }
   ],
   "source": [
    "pd.crosstab(df[\"contact\"], df[\"y\"], normalize=\"index\") * 100"
   ]
  },
  {
   "cell_type": "markdown",
   "id": "45875a04",
   "metadata": {},
   "source": [
    "**FR**\n",
    "\n",
    ">Dans cette section, nous observons si les méthodes de contact sélectionnées pourraient avoir une corrélation avec le taux de souscription. On remarque que les clients contactés par téléphone mobile présentent une probabilité environ trois fois plus élevée d’avoir souscrit.\n",
    "\n",
    "---\n",
    "**EN**\n",
    "\n",
    ">In this section, we observe whether the chosen contact methods could be correlated with the subscription rate. We note that clients contacted via mobile phone have approximately three times higher likelihood of having subscribed.\n"
   ]
  },
  {
   "cell_type": "code",
   "execution_count": 12,
   "id": "680d60a5",
   "metadata": {},
   "outputs": [
    {
     "data": {
      "text/html": [
       "<div>\n",
       "<style scoped>\n",
       "    .dataframe tbody tr th:only-of-type {\n",
       "        vertical-align: middle;\n",
       "    }\n",
       "\n",
       "    .dataframe tbody tr th {\n",
       "        vertical-align: top;\n",
       "    }\n",
       "\n",
       "    .dataframe thead th {\n",
       "        text-align: right;\n",
       "    }\n",
       "</style>\n",
       "<table border=\"1\" class=\"dataframe\">\n",
       "  <thead>\n",
       "    <tr style=\"text-align: right;\">\n",
       "      <th>y</th>\n",
       "      <th>no</th>\n",
       "      <th>yes</th>\n",
       "    </tr>\n",
       "    <tr>\n",
       "      <th>month</th>\n",
       "      <th></th>\n",
       "      <th></th>\n",
       "    </tr>\n",
       "  </thead>\n",
       "  <tbody>\n",
       "    <tr>\n",
       "      <th>apr</th>\n",
       "      <td>79.521277</td>\n",
       "      <td>20.478723</td>\n",
       "    </tr>\n",
       "    <tr>\n",
       "      <th>aug</th>\n",
       "      <td>89.397863</td>\n",
       "      <td>10.602137</td>\n",
       "    </tr>\n",
       "    <tr>\n",
       "      <th>dec</th>\n",
       "      <td>51.098901</td>\n",
       "      <td>48.901099</td>\n",
       "    </tr>\n",
       "    <tr>\n",
       "      <th>jul</th>\n",
       "      <td>90.953443</td>\n",
       "      <td>9.046557</td>\n",
       "    </tr>\n",
       "    <tr>\n",
       "      <th>jun</th>\n",
       "      <td>89.488530</td>\n",
       "      <td>10.511470</td>\n",
       "    </tr>\n",
       "    <tr>\n",
       "      <th>mar</th>\n",
       "      <td>49.450549</td>\n",
       "      <td>50.549451</td>\n",
       "    </tr>\n",
       "    <tr>\n",
       "      <th>may</th>\n",
       "      <td>93.565255</td>\n",
       "      <td>6.434745</td>\n",
       "    </tr>\n",
       "    <tr>\n",
       "      <th>nov</th>\n",
       "      <td>89.856133</td>\n",
       "      <td>10.143867</td>\n",
       "    </tr>\n",
       "    <tr>\n",
       "      <th>oct</th>\n",
       "      <td>56.128134</td>\n",
       "      <td>43.871866</td>\n",
       "    </tr>\n",
       "    <tr>\n",
       "      <th>sep</th>\n",
       "      <td>55.087719</td>\n",
       "      <td>44.912281</td>\n",
       "    </tr>\n",
       "  </tbody>\n",
       "</table>\n",
       "</div>"
      ],
      "text/plain": [
       "y             no        yes\n",
       "month                      \n",
       "apr    79.521277  20.478723\n",
       "aug    89.397863  10.602137\n",
       "dec    51.098901  48.901099\n",
       "jul    90.953443   9.046557\n",
       "jun    89.488530  10.511470\n",
       "mar    49.450549  50.549451\n",
       "may    93.565255   6.434745\n",
       "nov    89.856133  10.143867\n",
       "oct    56.128134  43.871866\n",
       "sep    55.087719  44.912281"
      ]
     },
     "execution_count": 12,
     "metadata": {},
     "output_type": "execute_result"
    }
   ],
   "source": [
    "pd.crosstab(df['month'], df['y'], normalize=\"index\")*100"
   ]
  },
  {
   "cell_type": "code",
   "execution_count": 13,
   "id": "ee720c16",
   "metadata": {},
   "outputs": [
    {
     "data": {
      "text/plain": [
       "may    13769\n",
       "jul     7174\n",
       "aug     6178\n",
       "jun     5318\n",
       "nov     4101\n",
       "apr     2632\n",
       "oct      718\n",
       "sep      570\n",
       "mar      546\n",
       "dec      182\n",
       "Name: month, dtype: int64"
      ]
     },
     "execution_count": 13,
     "metadata": {},
     "output_type": "execute_result"
    }
   ],
   "source": [
    "df['month'].value_counts()"
   ]
  },
  {
   "cell_type": "markdown",
   "id": "6b24ae2c",
   "metadata": {},
   "source": [
    "**FR**\n",
    "\n",
    ">On observe que les taux de souscription sont significativement plus élevés en mars, septembre, octobre et décembre, atteignant près de 50 %. En revanche, les mois d’été (juillet, août) ainsi que mai affichent des taux de souscription beaucoup plus faibles, autour de 6 à 10 %. Cela pourrait refléter des comportements saisonniers dans la prise de décision des clients.\n",
    "\n",
    "---\n",
    "**EN**\n",
    "\n",
    ">We observe that subscription rates are significantly higher in March, September, October, and December, reaching nearly 50%. In contrast, summer months (July, August) and May show much lower subscription rates, around 6 to 10%. This could reflect seasonal behaviors in clients' decision-making.\n",
    "\n"
   ]
  },
  {
   "cell_type": "code",
   "execution_count": 14,
   "id": "392e7b3b",
   "metadata": {},
   "outputs": [
    {
     "name": "stdout",
     "output_type": "stream",
     "text": [
      "           mean  median\n",
      "y                      \n",
      "no   220.844807   163.5\n",
      "yes  553.191164   449.0\n"
     ]
    }
   ],
   "source": [
    "duration_stats = df.groupby(\"y\")['duration'].agg(['mean', 'median'])\n",
    "print(duration_stats)"
   ]
  },
  {
   "cell_type": "markdown",
   "id": "b4ca51c8",
   "metadata": {},
   "source": [
    "**FR**\n",
    "\n",
    ">Nous avons cherché à déterminer s’il existait une corrélation entre la durée de l’appel et le taux de souscription au contrat à terme. Notre hypothèse, selon laquelle une durée plus élevée coïnciderait avec un taux de souscription plus important, a été confirmée. Comme le montre le tableau ci-dessus, la durée moyenne des appels conclus par une souscription est nettement supérieure (553 secondes contre 220 secondes). La médiane suit la même tendance (449 secondes contre 163,5 secondes).\n",
    "\n",
    "---\n",
    "\n",
    "**EN**\n",
    "\n",
    ">We aimed to determine whether there was a correlation between call duration and subscription rate. Our hypothesis, which stated that longer calls would coincide with higher subscription rates, was confirmed. As shown in the table above, the average duration of calls that ended in a subscription is significantly higher (553 seconds compared to 220 seconds). The median follows the same pattern (449 seconds versus 163.5 seconds).\n"
   ]
  },
  {
   "cell_type": "code",
   "execution_count": 15,
   "id": "20200ac6",
   "metadata": {},
   "outputs": [
    {
     "name": "stdout",
     "output_type": "stream",
     "text": [
      "         mean  median\n",
      "y                    \n",
      "no   2.633085     2.0\n",
      "yes  2.051724     2.0\n"
     ]
    }
   ],
   "source": [
    "contacts_stats = df.groupby(\"y\")[\"campaign\"].agg([\"mean\", \"median\"])\n",
    "print(contacts_stats)"
   ]
  },
  {
   "cell_type": "markdown",
   "id": "79577356",
   "metadata": {},
   "source": [
    "**FR**\n",
    "\n",
    ">Nous avons analysé la relation entre le nombre de contacts effectués durant la campagne et le taux de souscription. La moyenne est supérieure à la médiane, ce qui indique une distribution asymétrique à droite : la majorité des clients a été contactée peu de fois, tandis qu’un petit groupe a reçu de nombreux appels. Cette observation suggère qu’un nombre plus élevé de contacts n’est pas nécessairement corrélé à un meilleur taux de souscription, et pourrait au contraire générer un effet négatif.\n",
    "\n",
    "---\n",
    "\n",
    "**EN**\n",
    "\n",
    ">We analyzed the relationship between the number of contacts during the campaign and subscription rates. The mean exceeds the median, indicating a right-skewed distribution: most clients were contacted only a few times, while a smaller group received many calls. This observation suggests that a higher number of contacts is not necessarily correlated with a higher subscription rate and could even have a negative effect.\n",
    "\n"
   ]
  },
  {
   "cell_type": "code",
   "execution_count": 16,
   "id": "1b597a47",
   "metadata": {},
   "outputs": [
    {
     "data": {
      "text/html": [
       "<div>\n",
       "<style scoped>\n",
       "    .dataframe tbody tr th:only-of-type {\n",
       "        vertical-align: middle;\n",
       "    }\n",
       "\n",
       "    .dataframe tbody tr th {\n",
       "        vertical-align: top;\n",
       "    }\n",
       "\n",
       "    .dataframe thead th {\n",
       "        text-align: right;\n",
       "    }\n",
       "</style>\n",
       "<table border=\"1\" class=\"dataframe\">\n",
       "  <thead>\n",
       "    <tr style=\"text-align: right;\">\n",
       "      <th></th>\n",
       "      <th>mean</th>\n",
       "      <th>median</th>\n",
       "      <th>min</th>\n",
       "      <th>max</th>\n",
       "    </tr>\n",
       "    <tr>\n",
       "      <th>y</th>\n",
       "      <th></th>\n",
       "      <th></th>\n",
       "      <th></th>\n",
       "      <th></th>\n",
       "    </tr>\n",
       "  </thead>\n",
       "  <tbody>\n",
       "    <tr>\n",
       "      <th>no</th>\n",
       "      <td>2.633085</td>\n",
       "      <td>2.0</td>\n",
       "      <td>1</td>\n",
       "      <td>56</td>\n",
       "    </tr>\n",
       "    <tr>\n",
       "      <th>yes</th>\n",
       "      <td>2.051724</td>\n",
       "      <td>2.0</td>\n",
       "      <td>1</td>\n",
       "      <td>23</td>\n",
       "    </tr>\n",
       "  </tbody>\n",
       "</table>\n",
       "</div>"
      ],
      "text/plain": [
       "         mean  median  min  max\n",
       "y                              \n",
       "no   2.633085     2.0    1   56\n",
       "yes  2.051724     2.0    1   23"
      ]
     },
     "execution_count": 16,
     "metadata": {},
     "output_type": "execute_result"
    }
   ],
   "source": [
    "df.groupby(\"y\")[\"campaign\"].agg([\"mean\", \"median\", \"min\", \"max\"])"
   ]
  },
  {
   "cell_type": "markdown",
   "id": "d75d3403",
   "metadata": {},
   "source": [
    "**FR**\n",
    "\n",
    "> Nous avons mesuré le nombre de fois où les clients ont été contactés afin de déterminer si un plus grand nombre de prises de contact est corrélé à un taux de souscription plus élevé.\n",
    ">\n",
    "> Tout d’abord, le nombre minimal de contacts n’est pas informatif, car les clients doivent être contactés au moins une fois pour pouvoir souscrire.\n",
    ">\n",
    "> Cependant, le nombre maximal de contacts est nettement plus élevé chez les personnes n’ayant pas souscrit (56 contre 23). Cela suggère que contacter de façon répétée les mêmes clients n’est pas nécessairement efficace et pourrait même réduire la probabilité d’obtenir un résultat positif.\n",
    ">\n",
    "> En moyenne, les clients qui ont souscrit ont été légèrement moins contactés (moyenne \\~2,05) que ceux qui n’ont pas souscrit (moyenne \\~2,63). Les médianes sont identiques (2), ce qui indique qu’au-delà d’un certain point, les relances supplémentaires n’augmentent pas les chances de succès.\n",
    ">\n",
    "> Cela reflète probablement le fait que les clients réellement intéressés nécessitent moins de persuasion, tandis que ceux qui ne sont pas intéressés le resteront, peu importe le nombre d’appels.\n",
    ">\n",
    "> Par conséquent, au lieu de privilégier des relances fréquentes, la banque pourrait obtenir de meilleurs résultats en améliorant le ciblage et en atteignant de nouveaux clients potentiels.\n",
    "\n",
    "---\n",
    "\n",
    "**EN**\n",
    "\n",
    "> We measured the number of times people were contacted to determine whether a greater number of contacts correlates with higher subscription rates.\n",
    ">\n",
    "> First, the minimum number of contacts is not informative since clients must be contacted at least once in order to subscribe.\n",
    ">\n",
    "> However, the maximum number of contacts was much higher among those who did not subscribe (56 vs. 23). This suggests that repeatedly contacting the same person is not necessarily effective and may even reduce the likelihood of a positive outcome.\n",
    ">\n",
    "> On average, clients who subscribed received slightly fewer contacts (mean \\~2.05) than those who did not subscribe (mean \\~2.63). The medians are identical (2), indicating that beyond a certain point, additional calls do not increase success.\n",
    ">\n",
    "> This likely reflects that clients who are genuinely interested require less convincing, while those who are not interested will remain so regardless of repeated contact.\n",
    ">\n",
    "> Therefore, instead of focusing on high-frequency follow-ups, the bank may achieve better results by improving targeting and reaching new potential customers.\n",
    "\n"
   ]
  },
  {
   "cell_type": "code",
   "execution_count": 18,
   "id": "ecdd8338",
   "metadata": {},
   "outputs": [
    {
     "data": {
      "text/plain": [
       "count    41188.000000\n",
       "mean       962.475454\n",
       "std        186.910907\n",
       "min          0.000000\n",
       "25%        999.000000\n",
       "50%        999.000000\n",
       "75%        999.000000\n",
       "max        999.000000\n",
       "Name: pdays, dtype: float64"
      ]
     },
     "execution_count": 18,
     "metadata": {},
     "output_type": "execute_result"
    }
   ],
   "source": [
    "df['pdays'].describe()"
   ]
  },
  {
   "cell_type": "code",
   "execution_count": 19,
   "id": "90e30bb2",
   "metadata": {},
   "outputs": [
    {
     "name": "stdout",
     "output_type": "stream",
     "text": [
      "<class 'pandas.core.series.Series'>\n",
      "RangeIndex: 41188 entries, 0 to 41187\n",
      "Series name: pdays\n",
      "Non-Null Count  Dtype\n",
      "--------------  -----\n",
      "41188 non-null  int64\n",
      "dtypes: int64(1)\n",
      "memory usage: 321.9 KB\n"
     ]
    }
   ],
   "source": [
    "df['pdays'].info()"
   ]
  },
  {
   "cell_type": "code",
   "execution_count": 20,
   "id": "219e81a6",
   "metadata": {},
   "outputs": [
    {
     "data": {
      "text/html": [
       "<div>\n",
       "<style scoped>\n",
       "    .dataframe tbody tr th:only-of-type {\n",
       "        vertical-align: middle;\n",
       "    }\n",
       "\n",
       "    .dataframe tbody tr th {\n",
       "        vertical-align: top;\n",
       "    }\n",
       "\n",
       "    .dataframe thead th {\n",
       "        text-align: right;\n",
       "    }\n",
       "</style>\n",
       "<table border=\"1\" class=\"dataframe\">\n",
       "  <thead>\n",
       "    <tr style=\"text-align: right;\">\n",
       "      <th></th>\n",
       "      <th>mean</th>\n",
       "      <th>median</th>\n",
       "      <th>min</th>\n",
       "      <th>max</th>\n",
       "    </tr>\n",
       "    <tr>\n",
       "      <th>y</th>\n",
       "      <th></th>\n",
       "      <th></th>\n",
       "      <th></th>\n",
       "      <th></th>\n",
       "    </tr>\n",
       "  </thead>\n",
       "  <tbody>\n",
       "    <tr>\n",
       "      <th>no</th>\n",
       "      <td>984.113878</td>\n",
       "      <td>999.0</td>\n",
       "      <td>0</td>\n",
       "      <td>999</td>\n",
       "    </tr>\n",
       "    <tr>\n",
       "      <th>yes</th>\n",
       "      <td>792.035560</td>\n",
       "      <td>999.0</td>\n",
       "      <td>0</td>\n",
       "      <td>999</td>\n",
       "    </tr>\n",
       "  </tbody>\n",
       "</table>\n",
       "</div>"
      ],
      "text/plain": [
       "           mean  median  min  max\n",
       "y                                \n",
       "no   984.113878   999.0    0  999\n",
       "yes  792.035560   999.0    0  999"
      ]
     },
     "execution_count": 20,
     "metadata": {},
     "output_type": "execute_result"
    }
   ],
   "source": [
    "df.groupby(\"y\")[\"pdays\"].agg([\"mean\", \"median\", \"min\", \"max\"])"
   ]
  },
  {
   "cell_type": "markdown",
   "id": "11761a8e",
   "metadata": {},
   "source": [
    "\n",
    "**FR**\n",
    "\n",
    "> Nous constatons que la valeur moyenne de `pdays` pour les clients ayant souscrit est plus faible (792) que celle des clients n’ayant pas souscrit (984). Cela signifie que les clients qui avaient été contactés plus récemment lors de campagnes précédentes étaient plus susceptibles de souscrire. Cependant, comme la médiane est de 999 pour les deux groupes, la majorité des clients n’avaient jamais été contactés auparavant, et cet effet concerne principalement le petit groupe ayant déjà été contacté.\n",
    "\n",
    "---\n",
    "\n",
    "**EN**\n",
    "\n",
    "> We observe that the average `pdays` for clients who subscribed is lower (792) compared to those who did not subscribe (984). This means that clients who had been contacted more recently in previous campaigns were more likely to subscribe. However, since the median remains 999 for both groups, the majority of clients had never been contacted before, and this effect mainly applies to the smaller group who were previously contacted.\n"
   ]
  },
  {
   "cell_type": "code",
   "execution_count": 21,
   "id": "ea56175b",
   "metadata": {},
   "outputs": [
    {
     "data": {
      "text/html": [
       "<div>\n",
       "<style scoped>\n",
       "    .dataframe tbody tr th:only-of-type {\n",
       "        vertical-align: middle;\n",
       "    }\n",
       "\n",
       "    .dataframe tbody tr th {\n",
       "        vertical-align: top;\n",
       "    }\n",
       "\n",
       "    .dataframe thead th {\n",
       "        text-align: right;\n",
       "    }\n",
       "</style>\n",
       "<table border=\"1\" class=\"dataframe\">\n",
       "  <thead>\n",
       "    <tr style=\"text-align: right;\">\n",
       "      <th></th>\n",
       "      <th>count</th>\n",
       "      <th>mean</th>\n",
       "      <th>std</th>\n",
       "      <th>min</th>\n",
       "      <th>25%</th>\n",
       "      <th>50%</th>\n",
       "      <th>75%</th>\n",
       "      <th>max</th>\n",
       "    </tr>\n",
       "    <tr>\n",
       "      <th>y</th>\n",
       "      <th></th>\n",
       "      <th></th>\n",
       "      <th></th>\n",
       "      <th></th>\n",
       "      <th></th>\n",
       "      <th></th>\n",
       "      <th></th>\n",
       "      <th></th>\n",
       "    </tr>\n",
       "  </thead>\n",
       "  <tbody>\n",
       "    <tr>\n",
       "      <th>no</th>\n",
       "      <td>36548.0</td>\n",
       "      <td>0.132374</td>\n",
       "      <td>0.409199</td>\n",
       "      <td>0.0</td>\n",
       "      <td>0.0</td>\n",
       "      <td>0.0</td>\n",
       "      <td>0.0</td>\n",
       "      <td>7.0</td>\n",
       "    </tr>\n",
       "    <tr>\n",
       "      <th>yes</th>\n",
       "      <td>4640.0</td>\n",
       "      <td>0.492672</td>\n",
       "      <td>0.860344</td>\n",
       "      <td>0.0</td>\n",
       "      <td>0.0</td>\n",
       "      <td>0.0</td>\n",
       "      <td>1.0</td>\n",
       "      <td>6.0</td>\n",
       "    </tr>\n",
       "  </tbody>\n",
       "</table>\n",
       "</div>"
      ],
      "text/plain": [
       "       count      mean       std  min  25%  50%  75%  max\n",
       "y                                                        \n",
       "no   36548.0  0.132374  0.409199  0.0  0.0  0.0  0.0  7.0\n",
       "yes   4640.0  0.492672  0.860344  0.0  0.0  0.0  1.0  6.0"
      ]
     },
     "execution_count": 21,
     "metadata": {},
     "output_type": "execute_result"
    }
   ],
   "source": [
    "df.groupby('y')['previous'].describe()"
   ]
  },
  {
   "cell_type": "markdown",
   "id": "3af3e549",
   "metadata": {},
   "source": [
    "**FR**\n",
    "\n",
    ">Nous constatons que la *moyenne* du nombre de contacts précédents est inférieure à l’écart-type, ce qui indique une distribution très dispersée. La plupart des valeurs sont en réalité **nulles**, comme le montre la médiane (0,0) et le troisième quartile (0,0 pour « no » et 1,0 pour « yes »). Cela suggère que, pour la majorité des clients, il n’y a pas eu de contacts avant cette campagne.\n",
    ">\n",
    ">Il est intéressant de noter que le nombre moyen de contacts précédents est plus élevé parmi les personnes ayant souscrit (moyenne \\~0,49 contre \\~0,13). Cela pourrait indiquer qu’un contact préalable peut contribuer à augmenter le taux de souscription, mais puisque la distribution est très asymétrique (beaucoup de zéros, quelques valeurs élevées), cette conclusion doit être considérée avec prudence. Autrement dit, l’analyse n’est pas entièrement concluante, car la plupart des clients n’ont jamais été contactés auparavant.\n",
    "\n",
    "---\n",
    "\n",
    "**EN**\n",
    "\n",
    ">We can see that the *mean* number of previous contacts is less than the *standard deviation*, which indicates a very dispersed distribution. Most values are actually **zero**, as shown by the median (0.0) and the 75th percentile (0.0 for “no” and 1.0 for “yes”). This suggests that for most clients, there were no previous contacts before this campaign.\n",
    ">\n",
    ">Interestingly, the average number of previous contacts is higher among people who subscribed (mean \\~0.49 vs. \\~0.13). This could imply that prior contact can help improve subscription rates, but since the distribution is so skewed (most zeros, a few higher values), this conclusion should be taken with caution. In other words, the analysis is not conclusive because most clients were never contacted before.\n"
   ]
  },
  {
   "cell_type": "code",
   "execution_count": 22,
   "id": "92f88682",
   "metadata": {
    "scrolled": true
   },
   "outputs": [
    {
     "data": {
      "text/html": [
       "<div>\n",
       "<style scoped>\n",
       "    .dataframe tbody tr th:only-of-type {\n",
       "        vertical-align: middle;\n",
       "    }\n",
       "\n",
       "    .dataframe tbody tr th {\n",
       "        vertical-align: top;\n",
       "    }\n",
       "\n",
       "    .dataframe thead th {\n",
       "        text-align: right;\n",
       "    }\n",
       "</style>\n",
       "<table border=\"1\" class=\"dataframe\">\n",
       "  <thead>\n",
       "    <tr style=\"text-align: right;\">\n",
       "      <th>y</th>\n",
       "      <th>no</th>\n",
       "      <th>yes</th>\n",
       "    </tr>\n",
       "    <tr>\n",
       "      <th>poutcome</th>\n",
       "      <th></th>\n",
       "      <th></th>\n",
       "    </tr>\n",
       "  </thead>\n",
       "  <tbody>\n",
       "    <tr>\n",
       "      <th>failure</th>\n",
       "      <td>85.771402</td>\n",
       "      <td>14.228598</td>\n",
       "    </tr>\n",
       "    <tr>\n",
       "      <th>nonexistent</th>\n",
       "      <td>91.167787</td>\n",
       "      <td>8.832213</td>\n",
       "    </tr>\n",
       "    <tr>\n",
       "      <th>success</th>\n",
       "      <td>34.887109</td>\n",
       "      <td>65.112891</td>\n",
       "    </tr>\n",
       "  </tbody>\n",
       "</table>\n",
       "</div>"
      ],
      "text/plain": [
       "y                   no        yes\n",
       "poutcome                         \n",
       "failure      85.771402  14.228598\n",
       "nonexistent  91.167787   8.832213\n",
       "success      34.887109  65.112891"
      ]
     },
     "execution_count": 22,
     "metadata": {},
     "output_type": "execute_result"
    }
   ],
   "source": [
    "df.groupby('poutcome')['y'].value_counts(normalize=True).unstack().fillna(0)*100"
   ]
  },
  {
   "cell_type": "markdown",
   "id": "477ed27b",
   "metadata": {},
   "source": [
    "\n",
    "**FR**\n",
    "\n",
    ">`poutcome` représente le résultat de la campagne marketing précédente : si le dernier contact avec le client a été un *succès*, un *échec* ou n’a pas eu lieu (*nonexistent*).\n",
    ">\n",
    ">Comme nous pouvons le constater, le résultat de la campagne précédente est clairement corrélé avec la probabilité de souscription :\n",
    ">\n",
    ">* Lorsque le résultat précédent était un **succès**, le taux de souscription est très élevé (65 %).\n",
    ">* Lorsque le résultat précédent était un **échec**, le taux de souscription tombe à environ 14 %.\n",
    ">* En l’absence de contact antérieur, le taux de souscription est le plus bas (\\~9 %).\n",
    ">\n",
    ">Cela suggère qu’un engagement positif préalable rend les clients beaucoup plus réceptifs, tandis qu’un échec ou une absence de contact sont associés à un taux de souscription plus faible. Cela montre que les personnes ayant répondu positivement par le passé sont plus susceptibles de souscrire à nouveau.\n",
    "\n",
    "---\n",
    "\n",
    "**EN**\n",
    "\n",
    "\n",
    "\n",
    "\n",
    ">`poutcome` represents the outcome of the previous marketing campaign: whether the last contact attempt with the client was a *success*, *failure*, or did not exist (*nonexistent*).\n",
    ">\n",
    ">As we can observe, the outcome of the prior campaign is clearly correlated with the likelihood of subscription:\n",
    ">\n",
    ">* When the previous outcome was **success**, the subscription rate is very high (65%).\n",
    ">* When the previous outcome was **failure**, the subscription rate drops to \\~14%.\n",
    ">* When there was **no prior contact**, the subscription rate is the lowest (\\~9%).\n",
    ">\n",
    ">This suggests that prior positive engagement makes customers much more receptive, while failure or no contact are associated with lower subscription rates. It shows that people who responded positively in the past are more likely to subscribe again.\n"
   ]
  },
  {
   "cell_type": "code",
   "execution_count": 23,
   "id": "c979c44a",
   "metadata": {},
   "outputs": [
    {
     "data": {
      "text/html": [
       "<div>\n",
       "<style scoped>\n",
       "    .dataframe tbody tr th:only-of-type {\n",
       "        vertical-align: middle;\n",
       "    }\n",
       "\n",
       "    .dataframe tbody tr th {\n",
       "        vertical-align: top;\n",
       "    }\n",
       "\n",
       "    .dataframe thead th {\n",
       "        text-align: right;\n",
       "    }\n",
       "</style>\n",
       "<table border=\"1\" class=\"dataframe\">\n",
       "  <thead>\n",
       "    <tr style=\"text-align: right;\">\n",
       "      <th></th>\n",
       "      <th>count</th>\n",
       "      <th>mean</th>\n",
       "      <th>std</th>\n",
       "      <th>min</th>\n",
       "      <th>25%</th>\n",
       "      <th>50%</th>\n",
       "      <th>75%</th>\n",
       "      <th>max</th>\n",
       "    </tr>\n",
       "    <tr>\n",
       "      <th>y</th>\n",
       "      <th></th>\n",
       "      <th></th>\n",
       "      <th></th>\n",
       "      <th></th>\n",
       "      <th></th>\n",
       "      <th></th>\n",
       "      <th></th>\n",
       "      <th></th>\n",
       "    </tr>\n",
       "  </thead>\n",
       "  <tbody>\n",
       "    <tr>\n",
       "      <th>no</th>\n",
       "      <td>36548.0</td>\n",
       "      <td>0.248875</td>\n",
       "      <td>1.482932</td>\n",
       "      <td>-3.4</td>\n",
       "      <td>-1.8</td>\n",
       "      <td>1.1</td>\n",
       "      <td>1.4</td>\n",
       "      <td>1.4</td>\n",
       "    </tr>\n",
       "    <tr>\n",
       "      <th>yes</th>\n",
       "      <td>4640.0</td>\n",
       "      <td>-1.233448</td>\n",
       "      <td>1.623626</td>\n",
       "      <td>-3.4</td>\n",
       "      <td>-1.8</td>\n",
       "      <td>-1.8</td>\n",
       "      <td>-0.1</td>\n",
       "      <td>1.4</td>\n",
       "    </tr>\n",
       "  </tbody>\n",
       "</table>\n",
       "</div>"
      ],
      "text/plain": [
       "       count      mean       std  min  25%  50%  75%  max\n",
       "y                                                        \n",
       "no   36548.0  0.248875  1.482932 -3.4 -1.8  1.1  1.4  1.4\n",
       "yes   4640.0 -1.233448  1.623626 -3.4 -1.8 -1.8 -0.1  1.4"
      ]
     },
     "execution_count": 23,
     "metadata": {},
     "output_type": "execute_result"
    }
   ],
   "source": [
    "df.groupby('y')['emp.var.rate'].describe()"
   ]
  },
  {
   "cell_type": "markdown",
   "id": "a5455fd5",
   "metadata": {},
   "source": [
    "**FR**\n",
    "\n",
    ">On observe que, en moyenne, le taux de variation de l’emploi est **négatif chez les personnes qui ont souscrit** (-1,23), tandis qu’il est **positif chez celles qui n’ont pas souscrit** (+0,25).\n",
    ">\n",
    ">Cela suggère que les clients étaient plus susceptibles de souscrire lorsque l’économie et l’emploi se détérioraient (variation négative). Il est possible que, pendant les périodes économiques difficiles, les personnes soient plus enclines à sécuriser des produits financiers comme les dépôts à terme.\n",
    ">\n",
    ">Les écarts-types relativement élevés (\\~1,48 et \\~1,62) indiquent que la variable est assez dispersée, confirmant que la distribution est étalée et probablement asymétrique. Ainsi, même si la tendance moyenne est claire, les situations individuelles varient beaucoup.\n",
    "\n",
    "---\n",
    "\n",
    "**EN**\n",
    "\n",
    ">We observe that, on average, the employment variation rate is **negative among the people who subscribed** (-1.23), while it is **positive among those who did not subscribe** (+0.25).\n",
    ">\n",
    ">This suggests that clients were more likely to subscribe when the economy and employment were deteriorating (negative variation). Possibly, during worse economic periods, people are more inclined to secure financial products such as term deposits.\n",
    ">\n",
    ">The relatively large standard deviations (\\~1.48 and \\~1.62) indicate that the variable is quite spread out, confirming that the distribution is dispersed and probably skewed. Therefore, while the trend is clear on average, individual situations can vary significantly.\n",
    "\n",
    "\n"
   ]
  },
  {
   "cell_type": "code",
   "execution_count": 24,
   "id": "e06ee1af",
   "metadata": {},
   "outputs": [
    {
     "data": {
      "text/html": [
       "<div>\n",
       "<style scoped>\n",
       "    .dataframe tbody tr th:only-of-type {\n",
       "        vertical-align: middle;\n",
       "    }\n",
       "\n",
       "    .dataframe tbody tr th {\n",
       "        vertical-align: top;\n",
       "    }\n",
       "\n",
       "    .dataframe thead th {\n",
       "        text-align: right;\n",
       "    }\n",
       "</style>\n",
       "<table border=\"1\" class=\"dataframe\">\n",
       "  <thead>\n",
       "    <tr style=\"text-align: right;\">\n",
       "      <th></th>\n",
       "      <th>count</th>\n",
       "      <th>mean</th>\n",
       "      <th>std</th>\n",
       "      <th>min</th>\n",
       "      <th>25%</th>\n",
       "      <th>50%</th>\n",
       "      <th>75%</th>\n",
       "      <th>max</th>\n",
       "    </tr>\n",
       "    <tr>\n",
       "      <th>y</th>\n",
       "      <th></th>\n",
       "      <th></th>\n",
       "      <th></th>\n",
       "      <th></th>\n",
       "      <th></th>\n",
       "      <th></th>\n",
       "      <th></th>\n",
       "      <th></th>\n",
       "    </tr>\n",
       "  </thead>\n",
       "  <tbody>\n",
       "    <tr>\n",
       "      <th>no</th>\n",
       "      <td>36548.0</td>\n",
       "      <td>93.603757</td>\n",
       "      <td>0.558993</td>\n",
       "      <td>92.201</td>\n",
       "      <td>93.075</td>\n",
       "      <td>93.918</td>\n",
       "      <td>93.994</td>\n",
       "      <td>94.767</td>\n",
       "    </tr>\n",
       "    <tr>\n",
       "      <th>yes</th>\n",
       "      <td>4640.0</td>\n",
       "      <td>93.354386</td>\n",
       "      <td>0.676644</td>\n",
       "      <td>92.201</td>\n",
       "      <td>92.893</td>\n",
       "      <td>93.200</td>\n",
       "      <td>93.918</td>\n",
       "      <td>94.767</td>\n",
       "    </tr>\n",
       "  </tbody>\n",
       "</table>\n",
       "</div>"
      ],
      "text/plain": [
       "       count       mean       std     min     25%     50%     75%     max\n",
       "y                                                                        \n",
       "no   36548.0  93.603757  0.558993  92.201  93.075  93.918  93.994  94.767\n",
       "yes   4640.0  93.354386  0.676644  92.201  92.893  93.200  93.918  94.767"
      ]
     },
     "execution_count": 24,
     "metadata": {},
     "output_type": "execute_result"
    }
   ],
   "source": [
    "df.groupby('y')['cons.price.idx'].describe()"
   ]
  },
  {
   "cell_type": "markdown",
   "id": "bfba904f",
   "metadata": {},
   "source": [
    "\n",
    "### Analyse de l’Indice des Prix à la Consommation (IPC)\n",
    "\n",
    "On observe que les valeurs de l’Indice des Prix à la Consommation (IPC) sont très similaires entre les personnes ayant souscrit et celles ne l’ayant pas fait. Cela est logique, car l’IPC est un indice économique reflétant le niveau général des prix et ne varie donc pas selon les groupes individuels.\n",
    "\n",
    "De plus, l’écart-type est très faible par rapport à la moyenne, ce qui indique que les variations des prix des biens et services sont assez stables durant la période. La moyenne et la médiane sont proches, ce qui suggère que la distribution est assez symétrique avec peu d’asymétrie.\n",
    "\n",
    "Puisque les valeurs de l’IPC tournent autour de 93-94 (avec 100 comme base), cela implique une baisse d’environ 6 à 7 % des prix par rapport à la période de référence, ce qui suggère un contexte déflationniste dans l’économie durant la période étudiée.\n",
    "\n",
    "\n",
    "\n",
    "\n",
    "### Consumer Price Index (CPI) Analysis\n",
    "\n",
    "We observe that the Consumer Price Index (CPI) values are very similar for both people who subscribed and those who did not. This makes sense because CPI is an economic index reflecting the general price level and thus does not vary between individual groups.\n",
    "\n",
    "Additionally, the standard deviation is very low compared to the mean, indicating that the price changes for goods and services are quite stable over the period. The mean and median are close, suggesting the distribution is fairly symmetric with little skew.\n",
    "\n",
    "Since the CPI values are around 93-94 (with 100 typically as the base), this implies roughly a 6-7% decrease in prices compared to the base period, which suggests a deflationary environment in the economy during the time of the data.\n"
   ]
  },
  {
   "cell_type": "code",
   "execution_count": 26,
   "id": "2c499f56",
   "metadata": {},
   "outputs": [
    {
     "data": {
      "image/png": "[encoded data removed]",
      "text/plain": [
       "<Figure size 640x480 with 1 Axes>"
      ]
     },
     "metadata": {},
     "output_type": "display_data"
    }
   ],
   "source": [
    "sns.boxplot(x='y', y='cons.price.idx', data=df)\n",
    "plt.title(\"IPC en fonction du status de souscription\")\n",
    "plt.xlabel('Status de sousciption au CAT (y)')\n",
    "plt.ylabel('Indice des Prix à la Consommation (IPC)')\n",
    "plt.show()\n"
   ]
  },
  {
   "cell_type": "code",
   "execution_count": 31,
   "id": "b91c5cb2",
   "metadata": {},
   "outputs": [
    {
     "data": {
      "text/html": [
       "<div>\n",
       "<style scoped>\n",
       "    .dataframe tbody tr th:only-of-type {\n",
       "        vertical-align: middle;\n",
       "    }\n",
       "\n",
       "    .dataframe tbody tr th {\n",
       "        vertical-align: top;\n",
       "    }\n",
       "\n",
       "    .dataframe thead th {\n",
       "        text-align: right;\n",
       "    }\n",
       "</style>\n",
       "<table border=\"1\" class=\"dataframe\">\n",
       "  <thead>\n",
       "    <tr style=\"text-align: right;\">\n",
       "      <th></th>\n",
       "      <th>count</th>\n",
       "      <th>mean</th>\n",
       "      <th>std</th>\n",
       "      <th>min</th>\n",
       "      <th>25%</th>\n",
       "      <th>50%</th>\n",
       "      <th>75%</th>\n",
       "      <th>max</th>\n",
       "    </tr>\n",
       "    <tr>\n",
       "      <th>y</th>\n",
       "      <th></th>\n",
       "      <th></th>\n",
       "      <th></th>\n",
       "      <th></th>\n",
       "      <th></th>\n",
       "      <th></th>\n",
       "      <th></th>\n",
       "      <th></th>\n",
       "    </tr>\n",
       "  </thead>\n",
       "  <tbody>\n",
       "    <tr>\n",
       "      <th>no</th>\n",
       "      <td>36548.0</td>\n",
       "      <td>-40.593097</td>\n",
       "      <td>4.391155</td>\n",
       "      <td>-50.8</td>\n",
       "      <td>-42.7</td>\n",
       "      <td>-41.8</td>\n",
       "      <td>-36.4</td>\n",
       "      <td>-26.9</td>\n",
       "    </tr>\n",
       "    <tr>\n",
       "      <th>yes</th>\n",
       "      <td>4640.0</td>\n",
       "      <td>-39.789784</td>\n",
       "      <td>6.139668</td>\n",
       "      <td>-50.8</td>\n",
       "      <td>-46.2</td>\n",
       "      <td>-40.4</td>\n",
       "      <td>-36.1</td>\n",
       "      <td>-26.9</td>\n",
       "    </tr>\n",
       "  </tbody>\n",
       "</table>\n",
       "</div>"
      ],
      "text/plain": [
       "       count       mean       std   min   25%   50%   75%   max\n",
       "y                                                              \n",
       "no   36548.0 -40.593097  4.391155 -50.8 -42.7 -41.8 -36.4 -26.9\n",
       "yes   4640.0 -39.789784  6.139668 -50.8 -46.2 -40.4 -36.1 -26.9"
      ]
     },
     "execution_count": 31,
     "metadata": {},
     "output_type": "execute_result"
    }
   ],
   "source": [
    "df.groupby(\"y\")[\"cons.conf.idx\"].describe()"
   ]
  },
  {
   "cell_type": "markdown",
   "id": "fde72d16",
   "metadata": {},
   "source": [
    "## Analyse de l'Indice de confiance des consommateurs\n",
    "\n",
    ">Nous observons que l'indice de confiance des consommateurs (CCI) est en moyenne négatif pour les deux groupes, ce qui indique que, en général, les clients de la banque sont pessimistes quant à la situation économique globale. Ce pessimisme suggère qu'ils sont moins enclins à faire de nouveaux investissements, mais pourraient être davantage focalisés sur la protection de leur épargne. L'écart type relativement faible indique que ce sentiment est partagé de manière assez homogène parmi les clients. Cette observation est cohérente avec les valeurs négatives précédemment observées de l'indice des prix à la consommation (CPI), qui reflètent un environnement déflationniste où la croissance économique est faible et où moins d'investissements sont réalisés globalement.\n",
    "\n",
    "## Consumer Confidence Index (CCI) Analysis\n",
    "\n",
    ">We observe that the Consumer Confidence Index (CCI) is on average negative for both groups, indicating that, generally, the bank’s customers are pessimistic about the overall economic situation. This pessimism suggests they are less likely to make new investments but may be more focused on protecting their savings. The relatively low standard deviation indicates that this sentiment is fairly consistent across customers. This finding aligns with the previously observed negative Consumer Price Index (CPI) values, reflecting a deflationary environment where economic growth is weak and fewer investments are being made globally.\n"
   ]
  },
  {
   "cell_type": "code",
   "execution_count": null,
   "id": "51c4651c",
   "metadata": {},
   "outputs": [],
   "source": []
  },
  {
   "cell_type": "code",
   "execution_count": 32,
   "id": "71d06231",
   "metadata": {},
   "outputs": [
    {
     "data": {
      "text/html": [
       "<div>\n",
       "<style scoped>\n",
       "    .dataframe tbody tr th:only-of-type {\n",
       "        vertical-align: middle;\n",
       "    }\n",
       "\n",
       "    .dataframe tbody tr th {\n",
       "        vertical-align: top;\n",
       "    }\n",
       "\n",
       "    .dataframe thead th {\n",
       "        text-align: right;\n",
       "    }\n",
       "</style>\n",
       "<table border=\"1\" class=\"dataframe\">\n",
       "  <thead>\n",
       "    <tr style=\"text-align: right;\">\n",
       "      <th></th>\n",
       "      <th>count</th>\n",
       "      <th>mean</th>\n",
       "      <th>std</th>\n",
       "      <th>min</th>\n",
       "      <th>25%</th>\n",
       "      <th>50%</th>\n",
       "      <th>75%</th>\n",
       "      <th>max</th>\n",
       "    </tr>\n",
       "    <tr>\n",
       "      <th>y</th>\n",
       "      <th></th>\n",
       "      <th></th>\n",
       "      <th></th>\n",
       "      <th></th>\n",
       "      <th></th>\n",
       "      <th></th>\n",
       "      <th></th>\n",
       "      <th></th>\n",
       "    </tr>\n",
       "  </thead>\n",
       "  <tbody>\n",
       "    <tr>\n",
       "      <th>no</th>\n",
       "      <td>36548.0</td>\n",
       "      <td>3.811491</td>\n",
       "      <td>1.638187</td>\n",
       "      <td>0.634</td>\n",
       "      <td>1.405</td>\n",
       "      <td>4.857</td>\n",
       "      <td>4.962</td>\n",
       "      <td>5.045</td>\n",
       "    </tr>\n",
       "    <tr>\n",
       "      <th>yes</th>\n",
       "      <td>4640.0</td>\n",
       "      <td>2.123135</td>\n",
       "      <td>1.742598</td>\n",
       "      <td>0.634</td>\n",
       "      <td>0.849</td>\n",
       "      <td>1.266</td>\n",
       "      <td>4.406</td>\n",
       "      <td>5.045</td>\n",
       "    </tr>\n",
       "  </tbody>\n",
       "</table>\n",
       "</div>"
      ],
      "text/plain": [
       "       count      mean       std    min    25%    50%    75%    max\n",
       "y                                                                  \n",
       "no   36548.0  3.811491  1.638187  0.634  1.405  4.857  4.962  5.045\n",
       "yes   4640.0  2.123135  1.742598  0.634  0.849  1.266  4.406  5.045"
      ]
     },
     "execution_count": 32,
     "metadata": {},
     "output_type": "execute_result"
    }
   ],
   "source": [
    "df.groupby('y')['euribor3m'].describe()"
   ]
  },
  {
   "cell_type": "markdown",
   "id": "73916efe",
   "metadata": {},
   "source": [
    "## Analyse de la reation entre le taux Euribor 3 mois et la souscription au compte à terme\n",
    "\n",
    ">Nous constatons que le taux Euribor à 3 mois moyen est d’environ **3,8%** pour les personnes n’ayant pas souscrit et **2,1%** pour celles ayant souscrit. Un Euribor supérieur à 3% reflète un environnement économique où le coût d’emprunt est relativement élevé, ce qui peut décourager la prise de crédit et inciter les clients à se montrer prudents.\n",
    ">\n",
    ">La différence de moyenne suggère que les souscriptions ont davantage eu lieu lorsque le taux était plus bas, ce qui correspond à une période où l’argent est moins coûteux et où les clients sont peut-être plus enclins à s’engager financièrement.\n",
    ">\n",
    ">La dispersion (l’écart type) est modérée, ce qui indique qu’il existe une certaine variabilité des taux pendant la période observée, mais elle reste dans une fourchette interprétable.\n",
    ">\n",
    ">Ainsi, bien que ces résultats ne permettent pas d’établir une causalité certaine, ils suggèrent que les conditions de crédit plus favorables (taux plus faibles) pourraient être associées à un taux de souscription plus élevé.\n",
    "\n",
    "---\n",
    "\n",
    "## Analysis of the reelationship between the 3 months Euribor rate and the subscription rate\n",
    "\n",
    "\n",
    ">We can see that the average 3-month Euribor rate is about **3.8%** for people who did not subscribe and **2.1%** for those who did subscribe. An Euribor above 3% reflects an economic environment where borrowing costs are relatively high, which can discourage taking credit and make customers more cautious.\n",
    ">\n",
    ">The difference in means suggests that subscriptions were more frequent when the rate was lower, corresponding to a period when money was cheaper and customers were perhaps more inclined to commit financially.\n",
    ">\n",
    ">The dispersion (standard deviation) is moderate, indicating that there was some variability in rates during the observed period, but it remains within a range that can be meaningfully interpreted.\n",
    ">\n",
    ">Therefore, while these results do not establish a certain causal relationship, they suggest that more favorable credit conditions (lower rates) could be associated with a higher subscription rate."
   ]
  },
  {
   "cell_type": "code",
   "execution_count": 44,
   "id": "81dc9c1e",
   "metadata": {},
   "outputs": [
    {
     "data": {
      "image/png": "[encoded data removed]",
      "text/plain": [
       "<Figure size 640x480 with 1 Axes>"
      ]
     },
     "metadata": {},
     "output_type": "display_data"
    }
   ],
   "source": [
    "plt.hist(df[df['y']=='no']['euribor3m'], bins=30, alpha=0.6, color='Green', label=\"not subscribed\", edgecolor='black')\n",
    "plt.hist(df[df['y']=='yes']['euribor3m'], bins=30, alpha=0.6, color='red', label=\"subscribed\", edgecolor='black')\n",
    "\n",
    "plt.title(\"Distribution des taux Euribor 3 mois\")\n",
    "plt.xlabel(\"Euribor 3 mois\")\n",
    "plt.ylabel(\"Nombre de contrats\")\n",
    "plt.legend()\n",
    "plt.show()"
   ]
  },
  {
   "cell_type": "markdown",
   "id": "910cb476",
   "metadata": {},
   "source": [
    "## Distribution des taux Euribor 3 mois\n",
    "\n",
    "### Analyse\n",
    "\n",
    "Nous observons une **distribution bimodale** des taux Euribor 3 mois. Cela signifie qu’il existe **deux pics de fréquence distincts** :\n",
    "\n",
    "* Un premier pic autour de **1 %**, correspondant à une période de taux bas, postérieure à la crise financière de 2008.\n",
    "* Un second pic, plus massif, autour de **5 %**, reflétant les taux plus élevés d’avant crise.\n",
    "\n",
    "Cette distribution reflète une **évolution historique des politiques monétaires**, et non un biais de données :\n",
    "\n",
    "* Avant 2008, les taux étaient élevés pour contenir l'inflation.\n",
    "* Après la crise, les banques centrales ont réduit drastiquement les taux pour relancer l’économie.\n",
    "\n",
    "L’écart-type élevé, combiné à une moyenne élevée, indique une **forte dispersion** des valeurs. Cela suggère que l’ensemble de données couvre **plusieurs phases économiques distinctes**.\n",
    "\n",
    "**Remarque sur le graphique** : Lors du tracé des histogrammes superposés (clients ayant souscrit vs non souscrit), il faut **afficher d'abord le groupe le plus large**, puis le plus petit. Sinon, les barres du plus petit groupe peuvent être **entièrement masquées**.\n",
    "L’usage d’une **transparence (`alpha`)** est aussi recommandé pour mieux visualiser les recouvrements.\n",
    "\n",
    "---\n",
    "\n",
    "### Analysis\n",
    "\n",
    "We observe a **bimodal distribution** of 3-month Euribor rates, with **two distinct frequency peaks**:\n",
    "\n",
    "* A first peak around **1%**, reflecting the low-rate environment that followed the 2008 financial crisis.\n",
    "* A second, larger peak around **5%**, reflecting the higher interest rates prior to the crisis.\n",
    "\n",
    "This distribution is not a sampling issue but rather a reflection of the **historical evolution of monetary policy**:\n",
    "\n",
    "* Pre-2008: higher rates to fight inflation.\n",
    "* Post-2008: central banks cut rates sharply to stimulate the economy.\n",
    "\n",
    "The relatively high standard deviation, combined with a high mean, indicates a **wide spread**, suggesting the data includes **multiple economic cycles**.\n",
    "\n",
    "**Note on the chart**: When plotting the overlaid histograms (subscribers vs. non-subscribers), it's important to **plot the larger group first**, then the smaller one. Otherwise, the smaller group's bars may be **hidden**.\n",
    "Using **transparency (`alpha`)** helps better visualize overlapping bars.\n",
    "\n",
    "\n"
   ]
  },
  {
   "cell_type": "code",
   "execution_count": 45,
   "id": "0ad5d681",
   "metadata": {},
   "outputs": [
    {
     "data": {
      "text/html": [
       "<div>\n",
       "<style scoped>\n",
       "    .dataframe tbody tr th:only-of-type {\n",
       "        vertical-align: middle;\n",
       "    }\n",
       "\n",
       "    .dataframe tbody tr th {\n",
       "        vertical-align: top;\n",
       "    }\n",
       "\n",
       "    .dataframe thead th {\n",
       "        text-align: right;\n",
       "    }\n",
       "</style>\n",
       "<table border=\"1\" class=\"dataframe\">\n",
       "  <thead>\n",
       "    <tr style=\"text-align: right;\">\n",
       "      <th></th>\n",
       "      <th>count</th>\n",
       "      <th>mean</th>\n",
       "      <th>std</th>\n",
       "      <th>min</th>\n",
       "      <th>25%</th>\n",
       "      <th>50%</th>\n",
       "      <th>75%</th>\n",
       "      <th>max</th>\n",
       "    </tr>\n",
       "    <tr>\n",
       "      <th>y</th>\n",
       "      <th></th>\n",
       "      <th></th>\n",
       "      <th></th>\n",
       "      <th></th>\n",
       "      <th></th>\n",
       "      <th></th>\n",
       "      <th></th>\n",
       "      <th></th>\n",
       "    </tr>\n",
       "  </thead>\n",
       "  <tbody>\n",
       "    <tr>\n",
       "      <th>no</th>\n",
       "      <td>36548.0</td>\n",
       "      <td>5176.166600</td>\n",
       "      <td>64.571979</td>\n",
       "      <td>4963.6</td>\n",
       "      <td>5099.1</td>\n",
       "      <td>5195.8</td>\n",
       "      <td>5228.1</td>\n",
       "      <td>5228.1</td>\n",
       "    </tr>\n",
       "    <tr>\n",
       "      <th>yes</th>\n",
       "      <td>4640.0</td>\n",
       "      <td>5095.115991</td>\n",
       "      <td>87.572641</td>\n",
       "      <td>4963.6</td>\n",
       "      <td>5017.5</td>\n",
       "      <td>5099.1</td>\n",
       "      <td>5191.0</td>\n",
       "      <td>5228.1</td>\n",
       "    </tr>\n",
       "  </tbody>\n",
       "</table>\n",
       "</div>"
      ],
      "text/plain": [
       "       count         mean        std     min     25%     50%     75%     max\n",
       "y                                                                           \n",
       "no   36548.0  5176.166600  64.571979  4963.6  5099.1  5195.8  5228.1  5228.1\n",
       "yes   4640.0  5095.115991  87.572641  4963.6  5017.5  5099.1  5191.0  5228.1"
      ]
     },
     "execution_count": 45,
     "metadata": {},
     "output_type": "execute_result"
    }
   ],
   "source": [
    "df.groupby('y')['nr.employed'].describe()"
   ]
  },
  {
   "cell_type": "markdown",
   "id": "30ee51d2",
   "metadata": {},
   "source": [
    "### Variable : `nr.employed` (Nombre d’employés)\n",
    "\n",
    "#### Interprétation :\n",
    "\n",
    "La moyenne du nombre d’employés est très proche entre les clients ayant souscrit (`yes`) et ceux qui ne l'ont pas fait (`no`), ce qui suggère que le marché de l’emploi, mesuré à travers cette variable macroéconomique, n’a pas d’impact direct sur le taux de souscription à l’offre bancaire.\n",
    "La faible valeur de l’écart-type (moins de 2 % par rapport à la moyenne) indique que la distribution est très concentrée autour de la moyenne, ce qui signifie que la variable varie peu sur la période observée. Cela est cohérent avec le fait que `nr.employed` représente une variable macroéconomique, souvent stable à court terme.\n",
    "Il est également intéressant de noter que la moyenne est légèrement plus basse chez les personnes ayant souscrit, ce qui pourrait indiquer une légère sensibilité du comportement des clients en période d'emploi légèrement plus bas, mais cette différence n’est pas suffisamment marquée pour être interprétée comme significative sans test statistique complémentaire.\n",
    "\n",
    "#### Interpretation:\n",
    "\n",
    "The average number of employees is very similar between clients who subscribed (`yes`) and those who didn’t (`no`), suggesting that the employment market, as measured by this macroeconomic indicator, likely does not have a direct effect on subscription behavior.\n",
    "The standard deviation is small (less than 2% of the mean), indicating that the distribution is very narrow and concentrated around the average. This is consistent with the nature of `nr.employed` as a macroeconomic indicator, which tends to change slowly over time.\n",
    "Interestingly, the average is slightly lower for those who subscribed, which could point to a slight behavioral response during periods of lower employment, but the difference is too small to be meaningful without further statistical testing.\n"
   ]
  },
  {
   "cell_type": "code",
   "execution_count": 46,
   "id": "c7130bdf",
   "metadata": {},
   "outputs": [
    {
     "data": {
      "image/png": "[encoded data removed]",
      "text/plain": [
       "<Figure size 1000x600 with 1 Axes>"
      ]
     },
     "metadata": {},
     "output_type": "display_data"
    }
   ],
   "source": [
    "plt.figure(figsize=(10, 6))\n",
    "sns.kdeplot(data=df, x='nr.employed', hue='y', fill=True, common_norm=False, palette='Set2', alpha=0.6)\n",
    "plt.title(\"Courbe de densité du nombre d'employés par statut de souscription\")\n",
    "plt.xlabel(\"Nombre d'employés (nr.employed)\")\n",
    "plt.ylabel(\"Densité\")\n",
    "plt.grid(True)\n",
    "plt.show()\n"
   ]
  },
  {
   "cell_type": "markdown",
   "id": "39bb6780",
   "metadata": {},
   "source": [
    "# Conclusion (FR)\n",
    "\n",
    "Notre but était d'établir une stratégie de marketing concernant le dépôt à terme. \n",
    "\n",
    "* En termes de publique à viser pour la campagne de marketing nous avons remarqué que les retraités, les étudiants ont une plus grande susceptibilité de souscription à ce produit. Ceci est également confimé par les ages où les personnes plus jeunes et plus agées ont des taux de souscription plus élevés. \n",
    "\n",
    "\n",
    "* En termes de période à viser ce sont les périodes dans lesquelles le CCI est positif et important. Lorsque l' IPC est élevé, et de préférence supérieur à 100 ainsi qu'avec et les taux Euribor 3 mois faible. En effet ces indicateurs indiquent un climat plus favorable à l'investissment, donc avantageux pour la souscription de produit comme le dépôt à terme. \n",
    "\n",
    "\n",
    "* En ce qui concerne la frequence de contact, elle devrait être limitée, puisque comme nous l'avons vu une plus grande fréquence n'est pas corrélée à une augmentation des probabilités de souscription. En effet, au délà d'un certain nombre de tentatives de contact la meilleure stratégie serait de virer vers d'autres clients qui n'auraient pas été contactés récemment. \n",
    "\n",
    "\n",
    "* Cette brève stratégie permet d'allouer les reessources de façon plus efficace lors de la promotion du **dépôt à terme**\n",
    "\n",
    "---\n",
    "\n",
    "# Conclusion (EN)\n",
    "\n",
    "Our goal was to establish a marketing strategy regarding term deposits.\n",
    "\n",
    "* In terms of target audience for the marketing campaign, we observed that retirees and students have a higher propensity to subscribe to this product. This is also confirmed by age analysis, where younger and older individuals have higher subscription rates.\n",
    "\n",
    "\n",
    "* In terms of timing, the optimal periods are those when the CCI is positive and significant. When the CPI is high, preferably above 100, and with low 3-month Euribor rates. These indicators suggest a climate more favorable to investment, making it advantageous for subscribing to products like term deposits.\n",
    "\n",
    "\n",
    "* Regarding contact frequency, it should be limited, as we have seen that higher frequency is not correlated with increased subscription probabilities. Indeed, beyond a certain number of contact attempts, the best strategy would be to shift focus to other clients who have not been contacted recently.\n",
    "\n",
    "\n",
    "* This brief strategy allows for more efficient resource allocation when promoting **term deposits**.\n"
   ]
  }
 ],
 "metadata": {
  "kernelspec": {
   "display_name": "Python 3 (ipykernel)",
   "language": "python",
   "name": "python3"
  },
  "language_info": {
   "codemirror_mode": {
    "name": "ipython",
    "version": 3
   },
   "file_extension": ".py",
   "mimetype": "text/x-python",
   "name": "python",
   "nbconvert_exporter": "python",
   "pygments_lexer": "ipython3",
   "version": "3.9.19"
  }
 },
 "nbformat": 4,
 "nbformat_minor": 5
}
