{
 "cells": [
  {
   "cell_type": "code",
   "execution_count": 1,
   "id": "5d27df13",
   "metadata": {},
   "outputs": [
    {
     "name": "stdout",
     "output_type": "stream",
     "text": [
      "Note 1 : 1\n",
      "Note 2 : 2\n",
      "Note 3 : 3\n",
      "Non admis, avec une moyenne de :  2.0\n"
     ]
    }
   ],
   "source": [
    "# Auteur : Mohamed Saad\n",
    "# Date : Juin 2025\n",
    "# Projet : Calculatrice de moyenne (Python débutant)\n",
    "\n",
    "note_1 = float(input(\"Note 1 : \"))\n",
    "note_2 = float(input(\"Note 2 : \"))\n",
    "note_3 = float(input(\"Note 3 : \"))\n",
    "\n",
    "moyenne = (note_1 + note_2 + note_3)/3\n",
    "\n",
    "if moyenne >= 10:\n",
    "    print(\"Admis avec : \"+ str(moyenne) +\" de moyenne\")\n",
    "else:\n",
    "    print(\"Non admis, avec une moyenne de : \", moyenne)\n"
   ]
  },
  {
   "cell_type": "code",
   "execution_count": null,
   "id": "3537bb16",
   "metadata": {},
   "outputs": [],
   "source": []
  }
 ],
 "metadata": {
  "kernelspec": {
   "display_name": "Python 3 (ipykernel)",
   "language": "python",
   "name": "python3"
  },
  "language_info": {
   "codemirror_mode": {
    "name": "ipython",
    "version": 3
   },
   "file_extension": ".py",
   "mimetype": "text/x-python",
   "name": "python",
   "nbconvert_exporter": "python",
   "pygments_lexer": "ipython3",
   "version": "3.9.19"
  }
 },
 "nbformat": 4,
 "nbformat_minor": 5
}
