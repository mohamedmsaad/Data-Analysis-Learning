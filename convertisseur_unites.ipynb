{
 "cells": [
  {
   "cell_type": "code",
   "execution_count": 17,
   "id": "9c1cc191",
   "metadata": {},
   "outputs": [
    {
     "name": "stdout",
     "output_type": "stream",
     "text": [
      "=== Convertisseur d'unités ===\n",
      "1. Longueur (m ↔ ft)\n",
      "2. Poids (kg ↔ lb)\n",
      "3. Température (°C ↔ °F)\n",
      "Choisissez une catégorie (1/2/3) : 3\n",
      "Saisir C pour convertir C° en F°, F pour convertir F° en C° : F\n",
      "Entrez la valeur à convertir : 76\n",
      "76.0 F° = 24.44 C°\n"
     ]
    }
   ],
   "source": [
    "# Auteur : Mohamed Saad\n",
    "# Date : Juin 2025\n",
    "# Projet : Convertisseur d'unités (Python débutant)\n",
    "\n",
    "print(\"=== Convertisseur d'unités ===\")\n",
    "print(\"1. Longueur (m ↔ ft)\")\n",
    "print(\"2. Poids (kg ↔ lb)\")\n",
    "print(\"3. Température (°C ↔ °F)\")\n",
    "choix = input(\"Choisissez une catégorie (1/2/3) : \")\n",
    "\n",
    "def metres_en_pieds(m): \n",
    "    return m*3.28084\n",
    "def kg_en_lbs(kg): \n",
    "    return kg*2.20462\n",
    "def C_en_F(C): \n",
    "    return C*1.8+32\n",
    "def pieds_en_metres(ft) : \n",
    "    return ft/3.28084\n",
    "def lbs_en_kg(lbs) : \n",
    "    return lbs/2.20462\n",
    "def F_en_C(F): \n",
    "    return (F-32)*(5/9)\n",
    "\n",
    "if choix == \"1\": \n",
    "    sous_choix = input(\"Saisir m pour metres et ft pour convertir des pieds : \")\n",
    "    val = float(input(\"Indiquez la valeur à convertir : \"))\n",
    "    if sous_choix == \"m\":\n",
    "        print(f\"{val} mètres = {metres_en_pieds(val):.2f} pieds\")\n",
    "    elif sous_choix == \"ft\":\n",
    "        print(f\"{val} pieds = {pieds_en_metres(val):.2f} metres\")\n",
    "if choix == \"2\":\n",
    "    sous_choix = input(\"Saisir 'kg' pour kg → livres, ou 'lb' pour livres → kg : \")\n",
    "    val = float(input(\"Entrez la valeur à convertir : \"))\n",
    "    if sous_choix == \"kg\":\n",
    "        print(f\"{val} kg = {kg_en_lbs(val):.2f} livres\")\n",
    "    elif sous_choix == \"lb\":\n",
    "        print(f\"{val} livres = {lbs_en_kg(val):.2f} kg\")\n",
    "if choix == \"3\": \n",
    "    sous_choix = input(\"Saisir C pour convertir C° en F°, F pour convertir F° en C° : \")\n",
    "    val = float(input(\"Entrez la valeur à convertir : \"))\n",
    "    if sous_choix == \"C\":\n",
    "        print(f\"{val} C° = {C_en_F(val):.2f} F°\")\n",
    "    elif sous_choix==\"F\":\n",
    "        print(f\"{val} F° = {F_en_C(val):.2F} C°\")\n"
   ]
  },
  {
   "cell_type": "code",
   "execution_count": null,
   "id": "80ecf172",
   "metadata": {},
   "outputs": [],
   "source": []
  },
  {
   "cell_type": "code",
   "execution_count": null,
   "id": "2b9a946e",
   "metadata": {},
   "outputs": [],
   "source": []
  }
 ],
 "metadata": {
  "kernelspec": {
   "display_name": "Python 3 (ipykernel)",
   "language": "python",
   "name": "python3"
  },
  "language_info": {
   "codemirror_mode": {
    "name": "ipython",
    "version": 3
   },
   "file_extension": ".py",
   "mimetype": "text/x-python",
   "name": "python",
   "nbconvert_exporter": "python",
   "pygments_lexer": "ipython3",
   "version": "3.9.19"
  }
 },
 "nbformat": 4,
 "nbformat_minor": 5
}
